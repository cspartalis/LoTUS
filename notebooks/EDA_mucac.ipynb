{
 "cells": [
  {
   "cell_type": "code",
   "execution_count": 7,
   "metadata": {},
   "outputs": [
    {
     "data": {
      "text/plain": [
       "<torch._C.Generator at 0x7f929819bfb0>"
      ]
     },
     "execution_count": 7,
     "metadata": {},
     "output_type": "execute_result"
    }
   ],
   "source": [
    "import sys\n",
    "import torch\n",
    "from torchvision import transforms\n",
    "sys.path.append(\"../src\")\n",
    "from torch.utils.data import DataLoader\n",
    "from mucac_utils import MUCAC\n",
    "from data_utils import UnlearningDataLoader\n",
    "from seed import set_seed\n",
    "set_seed()"
   ]
  },
  {
   "cell_type": "code",
   "execution_count": 24,
   "metadata": {},
   "outputs": [],
   "source": [
    "def compute_mean_std(loader):\n",
    "    # var[X] = E[X**2] - E[X]**2\n",
    "    channels_sum, channels_sqrd_sum, num_batches = 0, 0, 0\n",
    "\n",
    "    for data, _ in loader:\n",
    "        channels_sum += torch.mean(data, dim=[0, 2, 3])\n",
    "        channels_sqrd_sum += torch.mean(data**2, dim=[0, 2, 3])\n",
    "        num_batches += 1\n",
    "\n",
    "    mean = channels_sum / num_batches\n",
    "    std = (channels_sqrd_sum / num_batches - mean**2) ** 0.5\n",
    "\n",
    "    return mean, std"
   ]
  },
  {
   "cell_type": "code",
   "execution_count": 3,
   "metadata": {},
   "outputs": [],
   "source": [
    "train = MUCAC(\n",
    "    split=\"train\",\n",
    "    transform=transforms.Compose(\n",
    "        [\n",
    "            transforms.Resize(224),\n",
    "            transforms.RandomHorizontalFlip(),\n",
    "            transforms.RandomAffine(0, shear=10, scale=(0.8, 1.2)),\n",
    "            transforms.ColorJitter(brightness=0.2, contrast=0.2, saturation=0.2),\n",
    "            transforms.ToTensor(),\n",
    "        ]\n",
    "    ),\n",
    ")\n",
    "train_loader = DataLoader(train, batch_size=1, shuffle=False, num_workers=4)\n",
    "val = MUCAC(split=\"val\", transform=transforms.ToTensor())\n",
    "val_loader = DataLoader(val, batch_size=1, shuffle=False, num_workers=4)\n",
    "test = MUCAC(split=\"test\", transform=transforms.ToTensor())\n",
    "test_loader = DataLoader(test, batch_size=1, shuffle=False, num_workers=4)"
   ]
  },
  {
   "cell_type": "code",
   "execution_count": 26,
   "metadata": {},
   "outputs": [],
   "source": [
    "# train_mean, train_std = compute_mean_std(train_loader)\n",
    "# val_mean, val_std = compute_mean_std(val_loader)\n",
    "# test_mean, test_std = compute_mean_std(test_loader)"
   ]
  },
  {
   "cell_type": "code",
   "execution_count": 27,
   "metadata": {},
   "outputs": [
    {
     "name": "stdout",
     "output_type": "stream",
     "text": [
      "Train mean: tensor([0.4719, 0.3761, 0.3224]), std: tensor([0.3211, 0.2816, 0.2673])\n"
     ]
    }
   ],
   "source": [
    "# print(f\"Train mean: {train_mean}, std: {train_std}\")\n",
    "# print(f\"Val mean: {val_mean}, std: {val_std}\")\n",
    "# print(f\"Test mean: {test_mean}, std: {test_std}\")"
   ]
  },
  {
   "cell_type": "code",
   "execution_count": 8,
   "metadata": {},
   "outputs": [],
   "source": [
    "UDL = UnlearningDataLoader(\"mucac\", batch_size=128, image_size=128, seed=3407)"
   ]
  },
  {
   "cell_type": "code",
   "execution_count": null,
   "metadata": {},
   "outputs": [],
   "source": []
  }
 ],
 "metadata": {
  "kernelspec": {
   "display_name": "MaUn",
   "language": "python",
   "name": "python3"
  },
  "language_info": {
   "codemirror_mode": {
    "name": "ipython",
    "version": 3
   },
   "file_extension": ".py",
   "mimetype": "text/x-python",
   "name": "python",
   "nbconvert_exporter": "python",
   "pygments_lexer": "ipython3",
   "version": "3.11.5"
  }
 },
 "nbformat": 4,
 "nbformat_minor": 2
}
