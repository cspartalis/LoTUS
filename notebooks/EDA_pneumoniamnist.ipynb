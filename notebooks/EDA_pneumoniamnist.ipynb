{
 "cells": [
  {
   "cell_type": "code",
   "execution_count": 2,
   "metadata": {},
   "outputs": [
    {
     "name": "stderr",
     "output_type": "stream",
     "text": [
      "/home/cspartalis/anaconda3/envs/MaUn/lib/python3.11/site-packages/tqdm/auto.py:21: TqdmWarning: IProgress not found. Please update jupyter and ipywidgets. See https://ipywidgets.readthedocs.io/en/stable/user_install.html\n",
      "  from .autonotebook import tqdm as notebook_tqdm\n"
     ]
    }
   ],
   "source": [
    "import sys\n",
    "import torch\n",
    "\n",
    "sys.path.append(\"../src\")\n",
    "\n",
    "from data_utils import UnlearningDataLoader\n",
    "\n",
    "\n",
    "DEVICE = torch.device(\"cuda\" if torch.cuda.is_available() else \"cpu\")"
   ]
  },
  {
   "cell_type": "code",
   "execution_count": 7,
   "metadata": {},
   "outputs": [],
   "source": [
    "def compute_mean_std(loader):\n",
    "    # var[X] = E[X**2] - E[X]**2\n",
    "    channels_sum, channels_sqrd_sum, num_batches = 0, 0, 0\n",
    "\n",
    "    for data, _ in loader:\n",
    "        channels_sum += torch.mean(data, dim=[0, 2, 3])\n",
    "        channels_sqrd_sum += torch.mean(data**2, dim=[0, 2, 3])\n",
    "        num_batches += 1\n",
    "\n",
    "    mean = channels_sum / num_batches\n",
    "    std = (channels_sqrd_sum / num_batches - mean**2) ** 0.5\n",
    "\n",
    "    return mean, std"
   ]
  },
  {
   "cell_type": "code",
   "execution_count": 3,
   "metadata": {},
   "outputs": [],
   "source": [
    "UDL = UnlearningDataLoader(\"pneumoniamnist\", 128, 224, 3407)\n",
    "dl, _ = UDL.load_data()"
   ]
  },
  {
   "cell_type": "code",
   "execution_count": 9,
   "metadata": {},
   "outputs": [],
   "source": [
    "train_mean, train_std = compute_mean_std(dl[\"train\"])\n",
    "val_mean, val_std = compute_mean_std(dl[\"val\"])\n",
    "test_mean, test_std = compute_mean_std(dl[\"test\"])"
   ]
  },
  {
   "cell_type": "code",
   "execution_count": 10,
   "metadata": {},
   "outputs": [
    {
     "name": "stdout",
     "output_type": "stream",
     "text": [
      "train mean & std: tensor([0.5717, 0.5717, 0.5717]), tensor([0.1770, 0.1770, 0.1770])\n",
      "val mean & std: tensor([0.5698, 0.5698, 0.5698]), tensor([0.1781, 0.1781, 0.1781])\n",
      "test mean & std: tensor([0.5640, 0.5640, 0.5640]), tensor([0.1783, 0.1783, 0.1783])\n"
     ]
    }
   ],
   "source": [
    "print(f\"train mean & std: {train_mean}, {train_std}\")\n",
    "print(f\"val mean & std: {val_mean}, {val_std}\")\n",
    "print(f\"test mean & std: {test_mean}, {test_std}\")"
   ]
  },
  {
   "cell_type": "code",
   "execution_count": 6,
   "metadata": {},
   "outputs": [
    {
     "name": "stdout",
     "output_type": "stream",
     "text": [
      "Number of zeros: 1214\n",
      "Number of ones: 3494\n"
     ]
    }
   ],
   "source": [
    "import numpy as np\n",
    "\n",
    "labels = dl[\"train\"].dataset.targets\n",
    "zeros = np.count_nonzero(labels == 0)\n",
    "ones = np.count_nonzero(labels == 1)\n",
    "\n",
    "print(f\"Number of zeros: {zeros}\")\n",
    "print(f\"Number of ones: {ones}\")\n"
   ]
  },
  {
   "cell_type": "code",
   "execution_count": null,
   "metadata": {},
   "outputs": [],
   "source": []
  }
 ],
 "metadata": {
  "kernelspec": {
   "display_name": "MaUn",
   "language": "python",
   "name": "python3"
  },
  "language_info": {
   "codemirror_mode": {
    "name": "ipython",
    "version": 3
   },
   "file_extension": ".py",
   "mimetype": "text/x-python",
   "name": "python",
   "nbconvert_exporter": "python",
   "pygments_lexer": "ipython3",
   "version": "3.11.5"
  }
 },
 "nbformat": 4,
 "nbformat_minor": 2
}
