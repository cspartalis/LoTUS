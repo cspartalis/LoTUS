{
 "cells": [
  {
   "cell_type": "code",
   "execution_count": 1,
   "metadata": {},
   "outputs": [],
   "source": [
    "# Let's assume that we have 4 classes\n",
    "# We are going to compute the Cross Entropy Loss (soft and hard)\n",
    "# We assume that the algorithm forgets via relabeling"
   ]
  },
  {
   "cell_type": "code",
   "execution_count": 7,
   "metadata": {},
   "outputs": [],
   "source": [
    "import torch\n",
    "import torch.nn.functional as F\n",
    "import torch.nn as nn\n"
   ]
  },
  {
   "cell_type": "code",
   "execution_count": 6,
   "metadata": {},
   "outputs": [
    {
     "name": "stdout",
     "output_type": "stream",
     "text": [
      "log_probs1: tensor([-7.0080e+00, -8.0080e+00, -7.9535e-03, -5.0080e+00])\n",
      "log_probs2: tensor([-1.3863, -1.3863, -1.3863, -1.3863])\n"
     ]
    }
   ],
   "source": [
    "# Let's assume that the correct class is 2\n",
    "# and we relabel class 3 as the correct class\n",
    "# Maybe the logits would be something like this\n",
    "logits1 = torch.tensor([3.0, 2.0, 10.0, 5.0])\n",
    "logits2 = torch.tensor([5.0, 5.0, 5.0, 5.0])\n",
    "\n",
    "log_probs1 = F.log_softmax(logits1, dim=0)\n",
    "log_probs2 = F.log_softmax(logits2, dim=0)\n",
    "\n",
    "print(f\"log_probs1: {log_probs1}\")\n",
    "print(f\"log_probs2: {log_probs2}\")"
   ]
  },
  {
   "cell_type": "code",
   "execution_count": 8,
   "metadata": {},
   "outputs": [],
   "source": [
    "class SoftCrossEntropyLoss(nn.Module):\n",
    "    def __init__(self):\n",
    "        super().__init__()\n",
    "\n",
    "    def forward(self, outputs, targets):\n",
    "        log_softmax = F.log_softmax(outputs, dim=1)\n",
    "        loss = -torch.sum(targets * log_softmax, dim=1)\n",
    "        return torch.mean(loss)"
   ]
  },
  {
   "cell_type": "code",
   "execution_count": null,
   "metadata": {},
   "outputs": [],
   "source": []
  }
 ],
 "metadata": {
  "kernelspec": {
   "display_name": "MaUn",
   "language": "python",
   "name": "python3"
  },
  "language_info": {
   "codemirror_mode": {
    "name": "ipython",
    "version": 3
   },
   "file_extension": ".py",
   "mimetype": "text/x-python",
   "name": "python",
   "nbconvert_exporter": "python",
   "pygments_lexer": "ipython3",
   "version": "3.11.5"
  }
 },
 "nbformat": 4,
 "nbformat_minor": 2
}
