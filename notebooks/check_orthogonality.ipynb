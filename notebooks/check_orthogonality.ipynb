{
 "cells": [
  {
   "cell_type": "code",
   "execution_count": 1,
   "metadata": {},
   "outputs": [],
   "source": [
    "from PIL import Image\n",
    "import imagehash\n",
    "import os\n",
    "import pandas as pd\n",
    "from tqdm.notebook import tqdm\n",
    "from torchvision.datasets import CIFAR10, CIFAR100\n",
    "import torchvision.transforms as transforms\n",
    "import pickle\n",
    "import plotly.graph_objects as go\n",
    "import plotly.subplots as sp\n",
    "import base64\n",
    "import os\n",
    "DATA_DIR = os.path.expanduser('~/data')"
   ]
  },
  {
   "cell_type": "code",
   "execution_count": 2,
   "metadata": {},
   "outputs": [],
   "source": [
    "def save_images(dataset, save_dir):\n",
    "    for i in tqdm(range(len(dataset))):\n",
    "        img, label = dataset[i]\n",
    "        img = transforms.ToPILImage()(img)  # Convert tensor to PIL image\n",
    "        img.save(os.path.join(save_dir, f'{label}_{i}.png'))"
   ]
  },
  {
   "cell_type": "code",
   "execution_count": 3,
   "metadata": {},
   "outputs": [],
   "source": [
    "def compute_hashes(image_paths:pd.Series) -> dict:\n",
    "    d_idx_hash = {}\n",
    "    for idx,image in image_paths.itteritems():\n",
    "        hash_image = imagehash.average_hash(Image.open(image))\n",
    "        d_idx_hash[idx] = hash_image\n",
    "    return d_idx_hash"
   ]
  },
  {
   "cell_type": "markdown",
   "metadata": {},
   "source": [
    "# Download and Save CIFAR-10/100 Images"
   ]
  },
  {
   "cell_type": "code",
   "execution_count": 4,
   "metadata": {},
   "outputs": [],
   "source": [
    "# Download CIFAR10/100 images\n",
    "cifar_dir = os.path.join(DATA_DIR, 'data_cifar')\n",
    "os.makedirs(cifar_dir, exist_ok=True)\n",
    "transform = transforms.ToTensor()\n",
    "cifar10_train_ds = CIFAR10(cifar_dir, download=True, train=True, transform=transform)\n",
    "cifar100_train_ds = CIFAR100(cifar_dir, download=True, train=True, transform=transform)"
   ]
  },
  {
   "cell_type": "code",
   "execution_count": 5,
   "metadata": {},
   "outputs": [],
   "source": [
    "cifar10_images_path = os.path.join(DATA_DIR, 'data_cifar', 'images_cifar10')\n",
    "if not os.path.exists(cifar10_images_path):\n",
    "    os.makedirs(cifar10_images_path, exist_ok=True)\n",
    "    save_images(cifar10_train_ds, cifar10_images_path)\n",
    "\n",
    "cifar100_images_path = os.path.join(DATA_DIR, 'data_cifar', 'images_cifar100')\n",
    "if not os.path.exists(cifar100_images_path):\n",
    "    os.makedirs(cifar100_images_path, exist_ok=True)\n",
    "    save_images(cifar100_train_ds, cifar100_images_path)"
   ]
  },
  {
   "cell_type": "markdown",
   "metadata": {},
   "source": [
    "# Compute and store Perceptual Hashes (pHashes)"
   ]
  },
  {
   "cell_type": "code",
   "execution_count": 6,
   "metadata": {},
   "outputs": [],
   "source": [
    "def compute_and_store_hashes(image_folder, hash_function=imagehash.phash, output_file='image_hashes.pkl'):\n",
    "    image_hashes = {}\n",
    "\n",
    "    for filename in tqdm(os.listdir(image_folder)):\n",
    "        image_path = os.path.join(image_folder, filename)\n",
    "        try:\n",
    "            image = Image.open(image_path)\n",
    "            hash_value = hash_function(image)\n",
    "            image_hashes[filename] = hash_value\n",
    "        except Exception as e:\n",
    "            print(f\"Error processing {filename}: {e}\")\n",
    "\n",
    "    # Save the hashes to a file\n",
    "    with open(output_file, 'wb') as f:\n",
    "        pickle.dump(image_hashes, f)"
   ]
  },
  {
   "cell_type": "code",
   "execution_count": 7,
   "metadata": {},
   "outputs": [
    {
     "data": {
      "application/vnd.jupyter.widget-view+json": {
       "model_id": "20a7502a2bab4d2dac896f052b8f9bd5",
       "version_major": 2,
       "version_minor": 0
      },
      "text/plain": [
       "  0%|          | 0/50000 [00:00<?, ?it/s]"
      ]
     },
     "metadata": {},
     "output_type": "display_data"
    },
    {
     "data": {
      "application/vnd.jupyter.widget-view+json": {
       "model_id": "639ad1c19a6b417aac22d782a4a17399",
       "version_major": 2,
       "version_minor": 0
      },
      "text/plain": [
       "  0%|          | 0/50000 [00:00<?, ?it/s]"
      ]
     },
     "metadata": {},
     "output_type": "display_data"
    }
   ],
   "source": [
    "if not os.path.exists(\"cifar10_image_hashes.pkl\"):\n",
    "    compute_and_store_hashes(cifar10_images_path, output_file='cifar10_image_hashes.pkl')\n",
    "if not os.path.exists(\"cifar100_image_hashes.pkl\"):\n",
    "    compute_and_store_hashes(cifar100_images_path, output_file='cifar100_image_hashes.pkl')"
   ]
  },
  {
   "cell_type": "code",
   "execution_count": 8,
   "metadata": {},
   "outputs": [
    {
     "name": "stdout",
     "output_type": "stream",
     "text": [
      "5000 45000 5000 45000\n"
     ]
    }
   ],
   "source": [
    "import random\n",
    "\n",
    "cifar_10_hashes = pd.read_pickle('cifar10_image_hashes.pkl')\n",
    "cifar_100_hashes = pd.read_pickle('cifar100_image_hashes.pkl')\n",
    "\n",
    "\n",
    "class_labels = [int(filename.split('_')[0]) for filename in cifar_10_hashes.keys()]\n",
    "unique_classes = list(set(class_labels))\n",
    "cifar10_forget = {}\n",
    "cifar10_retain = {}\n",
    "random_500_instances_per_class = []\n",
    "for class_label in unique_classes:\n",
    "    instances = [filename for filename, label in zip(cifar_10_hashes.keys(), class_labels) if label == class_label]\n",
    "    random_instances = random.sample(instances, 500)\n",
    "    random_500_instances_per_class.extend(random_instances)\n",
    "for filename in cifar_10_hashes.keys():\n",
    "    if filename in random_500_instances_per_class:\n",
    "        cifar10_forget[filename] = cifar_10_hashes[filename]\n",
    "    else:\n",
    "        cifar10_retain[filename] = cifar_10_hashes[filename]\n",
    "\n",
    "# Randomly select 500 instances from each class\n",
    "class_labels = [int(filename.split('_')[0]) for filename in cifar_100_hashes.keys()]\n",
    "unique_classes = list(set(class_labels))\n",
    "cifar100_forget = {}\n",
    "cifar100_retain = {}\n",
    "random_50_instances_per_class = []\n",
    "for class_label in unique_classes:\n",
    "    instances = [filename for filename, label in zip(cifar_100_hashes.keys(), class_labels) if label == class_label]\n",
    "    random_instances = random.sample(instances, 50)\n",
    "    random_50_instances_per_class.extend(random_instances)\n",
    "for filename in cifar_100_hashes.keys():\n",
    "    if filename in random_50_instances_per_class:\n",
    "        cifar100_forget[filename] = cifar_100_hashes[filename]\n",
    "    else:\n",
    "        cifar100_retain[filename] = cifar_100_hashes[filename]\n",
    "\n",
    "print(len(cifar10_forget), len(cifar10_retain), len(cifar100_forget), len(cifar100_retain))"
   ]
  },
  {
   "cell_type": "markdown",
   "metadata": {},
   "source": [
    "# Find Similar Images"
   ]
  },
  {
   "cell_type": "code",
   "execution_count": 9,
   "metadata": {},
   "outputs": [],
   "source": [
    "def load_pickle(input_file):\n",
    "    with open(input_file, 'rb') as f:\n",
    "        image_hashes = pickle.load(f)\n",
    "    return image_hashes"
   ]
  },
  {
   "cell_type": "markdown",
   "metadata": {},
   "source": [
    "# MUFAC"
   ]
  },
  {
   "cell_type": "code",
   "execution_count": 10,
   "metadata": {},
   "outputs": [
    {
     "data": {
      "text/html": [
       "<div>\n",
       "<style scoped>\n",
       "    .dataframe tbody tr th:only-of-type {\n",
       "        vertical-align: middle;\n",
       "    }\n",
       "\n",
       "    .dataframe tbody tr th {\n",
       "        vertical-align: top;\n",
       "    }\n",
       "\n",
       "    .dataframe thead th {\n",
       "        text-align: right;\n",
       "    }\n",
       "</style>\n",
       "<table border=\"1\" class=\"dataframe\">\n",
       "  <thead>\n",
       "    <tr style=\"text-align: right;\">\n",
       "      <th></th>\n",
       "      <th>family_id</th>\n",
       "      <th>person_id</th>\n",
       "      <th>age_class</th>\n",
       "      <th>image_path</th>\n",
       "    </tr>\n",
       "  </thead>\n",
       "  <tbody>\n",
       "    <tr>\n",
       "      <th>0</th>\n",
       "      <td>F0001</td>\n",
       "      <td>D</td>\n",
       "      <td>a</td>\n",
       "      <td>F0001_AGE_D_18_a1.jpg</td>\n",
       "    </tr>\n",
       "    <tr>\n",
       "      <th>1</th>\n",
       "      <td>F0001</td>\n",
       "      <td>D</td>\n",
       "      <td>a</td>\n",
       "      <td>F0001_AGE_D_18_a2.jpg</td>\n",
       "    </tr>\n",
       "    <tr>\n",
       "      <th>2</th>\n",
       "      <td>F0001</td>\n",
       "      <td>D</td>\n",
       "      <td>a</td>\n",
       "      <td>F0001_AGE_D_18_a3.jpg</td>\n",
       "    </tr>\n",
       "    <tr>\n",
       "      <th>3</th>\n",
       "      <td>F0001</td>\n",
       "      <td>D</td>\n",
       "      <td>a</td>\n",
       "      <td>F0001_AGE_D_18_a4.jpg</td>\n",
       "    </tr>\n",
       "    <tr>\n",
       "      <th>4</th>\n",
       "      <td>F0001</td>\n",
       "      <td>D</td>\n",
       "      <td>b</td>\n",
       "      <td>F0001_AGE_D_18_b1.jpg</td>\n",
       "    </tr>\n",
       "  </tbody>\n",
       "</table>\n",
       "</div>"
      ],
      "text/plain": [
       "  family_id person_id age_class             image_path\n",
       "0     F0001         D         a  F0001_AGE_D_18_a1.jpg\n",
       "1     F0001         D         a  F0001_AGE_D_18_a2.jpg\n",
       "2     F0001         D         a  F0001_AGE_D_18_a3.jpg\n",
       "3     F0001         D         a  F0001_AGE_D_18_a4.jpg\n",
       "4     F0001         D         b  F0001_AGE_D_18_b1.jpg"
      ]
     },
     "execution_count": 10,
     "metadata": {},
     "output_type": "execute_result"
    }
   ],
   "source": [
    "mufac_clean_dir = os.path.join(DATA_DIR, 'custom_korean_family_dataset_resolution_128_clean')\n",
    "mufac_clean_train_csv = os.path.join(mufac_clean_dir, 'custom_train_dataset.csv')\n",
    "df_train_clean = pd.read_csv(mufac_clean_train_csv)\n",
    "df_forget = df_train_clean[:1062]\n",
    "df_retain = df_train_clean[1062:]\n",
    "df_forget.head()"
   ]
  },
  {
   "cell_type": "code",
   "execution_count": 11,
   "metadata": {},
   "outputs": [],
   "source": [
    "def compute_and_store_hashes_clean(image_folder, clean_image_filenames, hash_function=imagehash.phash, output_file='image_hashes.pkl'):\n",
    "    image_hashes = {}\n",
    "\n",
    "    for filename in tqdm(clean_image_filenames):\n",
    "        image_path = os.path.join(image_folder, filename)\n",
    "        try:\n",
    "            image = Image.open(image_path)\n",
    "            hash_value = hash_function(image)\n",
    "            image_hashes[filename] = hash_value\n",
    "        except Exception as e:\n",
    "            print(f\"Error processing {filename}: {e}\")\n",
    "\n",
    "    # Save the hashes to a file\n",
    "    with open(output_file, 'wb') as f:\n",
    "        pickle.dump(image_hashes, f)\n",
    "    return image_hashes\n"
   ]
  },
  {
   "cell_type": "code",
   "execution_count": 12,
   "metadata": {},
   "outputs": [
    {
     "data": {
      "application/vnd.jupyter.widget-view+json": {
       "model_id": "658eee6a45b04221ae9bec56b6a5a098",
       "version_major": 2,
       "version_minor": 0
      },
      "text/plain": [
       "  0%|          | 0/1062 [00:00<?, ?it/s]"
      ]
     },
     "metadata": {},
     "output_type": "display_data"
    },
    {
     "data": {
      "application/vnd.jupyter.widget-view+json": {
       "model_id": "552510faf2974a61a4e55a1318e40827",
       "version_major": 2,
       "version_minor": 0
      },
      "text/plain": [
       "  0%|          | 0/5513 [00:00<?, ?it/s]"
      ]
     },
     "metadata": {},
     "output_type": "display_data"
    }
   ],
   "source": [
    "mufac_forget_hashes_clean = (\n",
    "    load_pickle(\"mufac_forget_hashes_clean.pkl\")\n",
    "    if os.path.exists(\"mufac_forget_hashes_clean.pkl\")\n",
    "    else compute_and_store_hashes_clean(\n",
    "        os.path.join(mufac_clean_dir, \"forget_images\"),\n",
    "        df_forget[\"image_path\"].values,\n",
    "        output_file=\"mufac_forget_hashes_clean.pkl\",\n",
    "    )\n",
    ")\n",
    "\n",
    "mufac_retain_hashes_clean = (\n",
    "    load_pickle(\"mufac_retain_clean_hashes.pkl\")\n",
    "    if os.path.exists(\"mufac_retain_clean_hashes.pkl\")\n",
    "    else compute_and_store_hashes_clean(\n",
    "        os.path.join(mufac_clean_dir, \"retain_images\"),\n",
    "        df_retain[\"image_path\"].values,\n",
    "        output_file=\"mufac_retain_clean_hashes.pkl\",\n",
    "    )\n",
    ")"
   ]
  },
  {
   "cell_type": "code",
   "execution_count": 13,
   "metadata": {},
   "outputs": [],
   "source": [
    "def compute_and_store_hash_differences(image_hashes_forget, image_hashes_retain, output_file='hash_differences.pkl'):\n",
    "    forget_hashes = list(image_hashes_forget.values())\n",
    "    retain_hashes = list(image_hashes_retain.values())\n",
    "    hash_diffs = []\n",
    "    \n",
    "    for forget_hash in tqdm(forget_hashes):\n",
    "        for  retain_hash in retain_hashes:\n",
    "            hash_diff = abs(forget_hash - retain_hash)\n",
    "            hash_diffs.append(hash_diff)\n",
    "\n",
    "\n",
    "    # Save the differences to a file\n",
    "    with open(output_file, 'wb') as f:\n",
    "        pickle.dump(hash_diffs, f)\n",
    "\n",
    "    return hash_diffs"
   ]
  },
  {
   "cell_type": "code",
   "execution_count": 14,
   "metadata": {},
   "outputs": [
    {
     "data": {
      "application/vnd.jupyter.widget-view+json": {
       "model_id": "b7f6d6f81ea64e73b7f69f3911464037",
       "version_major": 2,
       "version_minor": 0
      },
      "text/plain": [
       "  0%|          | 0/1062 [00:00<?, ?it/s]"
      ]
     },
     "metadata": {},
     "output_type": "display_data"
    },
    {
     "data": {
      "application/vnd.jupyter.widget-view+json": {
       "model_id": "236da32ff8aa438cb67e16ca9a1a8d2c",
       "version_major": 2,
       "version_minor": 0
      },
      "text/plain": [
       "  0%|          | 0/5000 [00:00<?, ?it/s]"
      ]
     },
     "metadata": {},
     "output_type": "display_data"
    },
    {
     "data": {
      "application/vnd.jupyter.widget-view+json": {
       "model_id": "03de2bcefeb047d2892476d7aca35645",
       "version_major": 2,
       "version_minor": 0
      },
      "text/plain": [
       "  0%|          | 0/5000 [00:00<?, ?it/s]"
      ]
     },
     "metadata": {},
     "output_type": "display_data"
    }
   ],
   "source": [
    "mufac_forget_retain_pairs = (\n",
    "    load_pickle(\"mufac_forget_retain_hash_differences.pkl\")\n",
    "    if os.path.exists(\"mufac_forget_retain_hash_differences.pkl\")\n",
    "    else compute_and_store_hash_differences(\n",
    "        mufac_forget_hashes_clean,\n",
    "        mufac_retain_hashes_clean,\n",
    "        output_file=\"mufac_forget_retain_hash_differences.pkl\",\n",
    "    )\n",
    ")\n",
    "\n",
    "cifar10_forget_retain_pairs = (\n",
    "    load_pickle(\"cifar10_forget_retain_hash_differences.pkl\")\n",
    "    if os.path.exists(\"cifar10_forget_retain_hash_differences.pkl\")\n",
    "    else compute_and_store_hash_differences(\n",
    "        cifar10_forget,\n",
    "        cifar10_retain,\n",
    "        output_file=\"cifar10_forget_retain_hash_differences.pkl\",\n",
    "    )\n",
    ")\n",
    "\n",
    "cifar_100_forget_retain_pairs = (\n",
    "    load_pickle(\"cifar100_forget_retain_hash_differences.pkl\")\n",
    "    if os.path.exists(\"cifar100_forget_retain_hash_differences.pkl\")\n",
    "    else compute_and_store_hash_differences(\n",
    "        cifar100_forget,\n",
    "        cifar100_retain,\n",
    "        output_file=\"cifar100_forget_retain_hash_differences.pkl\",\n",
    "    )\n",
    ")"
   ]
  },
  {
   "cell_type": "markdown",
   "metadata": {},
   "source": [
    "# Checking orthogonality of the of retain - forget set"
   ]
  },
  {
   "cell_type": "code",
   "execution_count": 15,
   "metadata": {},
   "outputs": [
    {
     "name": "stdout",
     "output_type": "stream",
     "text": [
      "len(mufac_forget_retain_pairs)) 5854806\n",
      "len(cifar10_forget_retain_pairs)) 225000000\n",
      "len(cifar_100_forget_retain_pairs)) 225000000\n"
     ]
    }
   ],
   "source": [
    "import random \n",
    "random.seed(42)\n",
    "print(f\"len(mufac_forget_retain_pairs)) {len(mufac_forget_retain_pairs)}\")\n",
    "print(f\"len(cifar10_forget_retain_pairs)) {len(cifar10_forget_retain_pairs)}\")\n",
    "print(f\"len(cifar_100_forget_retain_pairs)) {len(cifar_100_forget_retain_pairs)}\")\n",
    "\n",
    "\n",
    "cifar10_sample = random.sample(cifar10_forget_retain_pairs, len(mufac_forget_retain_pairs))\n",
    "cifar100_sample = random.sample(cifar_100_forget_retain_pairs, len(mufac_forget_retain_pairs))\n"
   ]
  },
  {
   "cell_type": "code",
   "execution_count": 31,
   "metadata": {},
   "outputs": [
    {
     "data": {
      "image/png": "[encoded data removed]",
      "text/plain": [
       "<Figure size 400x200 with 1 Axes>"
      ]
     },
     "metadata": {},
     "output_type": "display_data"
    }
   ],
   "source": [
    "import matplotlib.pyplot as plt\n",
    "plt.rcParams[\"font.family\"] = \"Times New Roman\"\n",
    "\n",
    "plt.figure(figsize=(4, 2))\n",
    "plt.hist(\n",
    "    mufac_forget_retain_pairs,\n",
    "    bins=100,\n",
    "    alpha=1,\n",
    "    label=\"MUFAC\",\n",
    "    density=True,\n",
    "    cumulative=True,\n",
    "    histtype=\"step\",\n",
    ")\n",
    "plt.hist(\n",
    "    cifar10_sample,\n",
    "    bins=100,\n",
    "    alpha=0.85,\n",
    "    label=\"CIFAR-10\",\n",
    "    density=True,\n",
    "    cumulative=True,\n",
    "    histtype=\"step\",    \n",
    ")\n",
    "plt.hist(\n",
    "    cifar100_sample,\n",
    "    bins=100,\n",
    "    alpha=0.85,\n",
    "    label=\"CIFAR-100\",\n",
    "    density=True,\n",
    "    cumulative=True,\n",
    "    histtype=\"step\",    \n",
    ")\n",
    "\n",
    "plt.xlabel('Absolute Difference of Image Hashes', fontsize=11)\n",
    "plt.ylabel('Probability',fontsize=11)\n",
    "plt.title('CMF of Hash Differences (Forget/Retain Sets)', fontsize=12)\n",
    "plt.legend()\n",
    "plt.savefig('images/cmf_hash_differences.png', dpi=300, bbox_inches='tight')\n",
    "plt.show()"
   ]
  }
 ],
 "metadata": {
  "kernelspec": {
   "display_name": "MaUn",
   "language": "python",
   "name": "python3"
  },
  "language_info": {
   "codemirror_mode": {
    "name": "ipython",
    "version": 3
   },
   "file_extension": ".py",
   "mimetype": "text/x-python",
   "name": "python",
   "nbconvert_exporter": "python",
   "pygments_lexer": "ipython3",
   "version": "3.11.5"
  }
 },
 "nbformat": 4,
 "nbformat_minor": 2
}
