{
 "cells": [
  {
   "cell_type": "code",
   "execution_count": 1,
   "metadata": {},
   "outputs": [],
   "source": [
    "import sys\n",
    "sys.path.append('../src')\n",
    "from data_utils import UnlearningDataLoader"
   ]
  },
  {
   "cell_type": "markdown",
   "metadata": {},
   "source": [
    "# MNIST"
   ]
  },
  {
   "cell_type": "code",
   "execution_count": 2,
   "metadata": {},
   "outputs": [
    {
     "name": "stdout",
     "output_type": "stream",
     "text": [
      "{'train': 60000, 'forget': 5996, 'retain': 54004, 'val': 5000, 'test': 5000}\n"
     ]
    }
   ],
   "source": [
    "mnist = UnlearningDataLoader(\"mnist\", batch_size=128, frac_per_class_forget=0.1)\n",
    "dataloaders, dataset_sizes = mnist.load_data()\n",
    "print(dataset_sizes)"
   ]
  },
  {
   "cell_type": "markdown",
   "metadata": {},
   "source": [
    "# CIFAR-10"
   ]
  },
  {
   "cell_type": "code",
   "execution_count": 3,
   "metadata": {},
   "outputs": [
    {
     "name": "stdout",
     "output_type": "stream",
     "text": [
      "Files already downloaded and verified\n",
      "Files already downloaded and verified\n",
      "{'train': 50000, 'forget': 5000, 'retain': 45000, 'val': 5000, 'test': 5000}\n"
     ]
    }
   ],
   "source": [
    "cifar10 = UnlearningDataLoader('cifar-10', batch_size=128, frac_per_class_forget=0.1)\n",
    "datloaders, dataset_sizes = cifar10.load_data()\n",
    "print(dataset_sizes)"
   ]
  },
  {
   "cell_type": "markdown",
   "metadata": {},
   "source": [
    "# CIFAR-100"
   ]
  },
  {
   "cell_type": "code",
   "execution_count": 4,
   "metadata": {},
   "outputs": [
    {
     "name": "stdout",
     "output_type": "stream",
     "text": [
      "Files already downloaded and verified\n",
      "Files already downloaded and verified\n",
      "{'train': 50000, 'forget': 5000, 'retain': 45000, 'val': 5000, 'test': 5000}\n"
     ]
    }
   ],
   "source": [
    "cifar100 = UnlearningDataLoader(\"cifar-100\", batch_size=128, frac_per_class_forget=0.1)\n",
    "dataloaders, dataset_sizes = cifar100.load_data()\n",
    "print(dataset_sizes)"
   ]
  },
  {
   "cell_type": "markdown",
   "metadata": {},
   "source": [
    "# Tiny-ImageNet-200"
   ]
  },
  {
   "cell_type": "code",
   "execution_count": 5,
   "metadata": {},
   "outputs": [
    {
     "name": "stdout",
     "output_type": "stream",
     "text": [
      "{'train': 100000, 'forget': 10000, 'retain': 90000, 'val': 5000, 'test': 5000}\n"
     ]
    }
   ],
   "source": [
    "imagenet = UnlearningDataLoader(\"imagenet\", batch_size=128, frac_per_class_forget=0.1)\n",
    "dataloaders, dataset_sizes = imagenet.load_data()\n",
    "print(dataset_sizes)"
   ]
  }
 ],
 "metadata": {
  "kernelspec": {
   "display_name": "MaUn",
   "language": "python",
   "name": "python3"
  },
  "language_info": {
   "codemirror_mode": {
    "name": "ipython",
    "version": 3
   },
   "file_extension": ".py",
   "mimetype": "text/x-python",
   "name": "python",
   "nbconvert_exporter": "python",
   "pygments_lexer": "ipython3",
   "version": "3.11.5"
  }
 },
 "nbformat": 4,
 "nbformat_minor": 2
}
