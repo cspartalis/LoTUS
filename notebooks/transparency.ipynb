{
 "cells": [
  {
   "cell_type": "code",
   "execution_count": 54,
   "metadata": {},
   "outputs": [],
   "source": [
    "import mlflow\n",
    "\n",
    "def get_metrics_and_params(run_id):\n",
    "    client = mlflow.tracking.MlflowClient(tracking_uri='http://127.0.0.1:5000/')\n",
    "    run = client.get_run(run_id)\n",
    "    metrics = run.data.metrics\n",
    "    params = run.data.params\n",
    "    return metrics, params\n",
    "\n",
    "def get_mean_and_std(val1, val2, val3):\n",
    "    mean = (val1 + val2 + val3) / 3\n",
    "    std = ((val1 - mean)**2 + (val2 - mean)**2 + (val3 - mean)**2) / 3\n",
    "    return round(mean,2), round(std,2)\n",
    "\n",
    "def get_metrics_overview(retrained_metrics_1, retrained_metrics_2, retrained_metrics_3, unlearned_metrics_1, unlearned_metrics_2, unlearned_metrics_3, percentage=True):\n",
    "    if 'MIA_prob' not in retrained_metrics_1:\n",
    "        retrained_metrics_1['MIA_prob'] = retrained_metrics_1['membership_attack_prob']\n",
    "    if percentage:\n",
    "        for met in [\"MIA_prob\", \"acc_forget\", \"acc_retain\"]:\n",
    "            retrained_metrics_1[met] = round(retrained_metrics_1[met]/100,2)\n",
    "            retrained_metrics_2[met] = round(retrained_metrics_2[met]/100,2)\n",
    "            retrained_metrics_3[met] = round(retrained_metrics_3[met]/100,2)\n",
    "\n",
    "\n",
    "    r_mia_mean, r_mia_std = get_mean_and_std(retrained_metrics_1['MIA_prob'], retrained_metrics_2['MIA_prob'], retrained_metrics_3['MIA_prob'])\n",
    "    r_acc_forget_mean, r_acc_forget_std = get_mean_and_std(retrained_metrics_1['acc_forget'], retrained_metrics_2['acc_forget'], retrained_metrics_3['acc_forget'])\n",
    "    r_acc_retain_mean, r_acc_retain_std = get_mean_and_std(retrained_metrics_1['acc_retain'], retrained_metrics_2['acc_retain'], retrained_metrics_3['acc_retain'])\n",
    "    r_t_mean, r_t_std = get_mean_and_std(retrained_metrics_1['t'], retrained_metrics_2['t'], retrained_metrics_3['t'])\n",
    "    r_l2_mean, r_l2_std = get_mean_and_std(retrained_metrics_1['l2'], retrained_metrics_2['l2'], retrained_metrics_3['l2'])\n",
    "\n",
    "    u_mia_mean, u_mia_std = get_mean_and_std(unlearned_metrics_1['MIA_prob'], unlearned_metrics_2['MIA_prob'], unlearned_metrics_3['MIA_prob'])\n",
    "    u_acc_forget_mean, u_acc_forget_std = get_mean_and_std(unlearned_metrics_1['acc_forget'], unlearned_metrics_2['acc_forget'], unlearned_metrics_3['acc_forget'])\n",
    "    u_acc_retain_mean, u_acc_retain_std = get_mean_and_std(unlearned_metrics_1['acc_retain'], unlearned_metrics_2['acc_retain'], unlearned_metrics_3['acc_retain'])\n",
    "    u_t_mean, u_t_std = get_mean_and_std(unlearned_metrics_1['t'], unlearned_metrics_2['t'], unlearned_metrics_3['t'])\n",
    "    u_l2_mean, u_l2_std = get_mean_and_std(unlearned_metrics_1['l2'], unlearned_metrics_2['l2'], unlearned_metrics_3['l2'])\n",
    "    u_ve_mean, u_ve_std = get_mean_and_std(unlearned_metrics_1['VE'], unlearned_metrics_2['VE'], unlearned_metrics_3['VE'])\n",
    "\n",
    "    diff_acc_forget_mean, diff_acc_forget_std = get_mean_and_std(abs(retrained_metrics_1['acc_forget'] - unlearned_metrics_1['acc_forget']), abs(retrained_metrics_2['acc_forget'] - unlearned_metrics_2['acc_forget']), abs(retrained_metrics_3['acc_forget'] - unlearned_metrics_3['acc_forget']))\n",
    "    diff_acc_retain_mean, diff_acc_retain_std = get_mean_and_std(abs(retrained_metrics_1['acc_retain'] - unlearned_metrics_1['acc_retain']), abs(retrained_metrics_2['acc_retain'] - unlearned_metrics_2['acc_retain']), abs(retrained_metrics_3['acc_retain'] - unlearned_metrics_3['acc_retain']))\n",
    "\n",
    "    retrained_metrics_overview = {\"MIA\": f\"{r_mia_mean} ± {r_mia_std}\", \"acc_forget\": f\"{r_acc_forget_mean} ± {r_acc_forget_std}\", \"acc_retain\": f\"{r_acc_retain_mean} ± {r_acc_retain_std}\", \"t\": f\"{r_t_mean} ± {r_t_std}\", \"l2\": f\"{r_l2_mean} ± {r_l2_std}\"}\n",
    "    unlearned_metrics_overview = {\"MIA\": f\"{u_mia_mean} ± {u_mia_std}\", \"acc_forget\": f\"{u_acc_forget_mean} ± {u_acc_forget_std} ({diff_acc_forget_mean} ± {diff_acc_forget_std})\", \"acc_retain\": f\"{u_acc_retain_mean} ± {u_acc_retain_std} ({diff_acc_retain_mean} ± {diff_acc_retain_std})\", \"t\": f\"{u_t_mean} ± {u_t_std}\", \"l2\": f\"{u_l2_mean} ± {u_l2_std}\", \"ve\": f\"{u_ve_mean} ± {u_ve_std}\"}\n",
    "    return retrained_metrics_overview, unlearned_metrics_overview"
   ]
  },
  {
   "cell_type": "markdown",
   "metadata": {},
   "source": [
    "# Instance-wise Unlearning\n",
    "Description: Forget specific datapoints across all the classes."
   ]
  },
  {
   "cell_type": "markdown",
   "metadata": {},
   "source": [
    "## CIFAR-10 (ResNet18)"
   ]
  },
  {
   "cell_type": "code",
   "execution_count": 55,
   "metadata": {},
   "outputs": [
    {
     "name": "stdout",
     "output_type": "stream",
     "text": [
      "Hyperparams: {'reference_run_name': 'retrained', 'reference_run_id': '4933a16e6e594a849a80a1aebb0132a8', 'seed': '3407', 'cudnn': 'slow', 'dataset': 'cifar-10', 'branch_name': 'annealing', 'Dr_subset_size': '0.3', 'lr': '0.0001', 'wd': '0.0005', 'optimizer': 'Adam (\\nParameter Group 0\\n    amsgrad: False\\n    betas: (0.9, 0.999)\\n    capturable: False\\n    differentiable: False\\n    eps: 1e-08\\n    foreach: None\\n    fused: None\\n    lr: 0.0001\\n    maximize: False\\n    weight_decay: 0.0005\\n)', 'tempScheduler': 'exponential', 'minTemp': '1.1', 'maxTemp': '16.0', 'probTransformer': 'gumbel-softmax', 'datetime': '09-09-16-53', 'epochs': '10', 'method': 'our', 'git_commit_hash': '61852c1aeb3f58d8f2dbb925a42ce9e530b9cdef', 'model': 'resnet18', 'batch_size': '128', 'beta': '0'}, {'git_commit_hash': '61852c1aeb3f58d8f2dbb925a42ce9e530b9cdef', 'probTransformer': 'gumbel-softmax', 'beta': '0', 'reference_run_name': 'retrained', 'seed': '13', 'cudnn': 'slow', 'model': 'resnet18', 'method': 'our', 'datetime': '09-09-16-51', 'reference_run_id': '115c419853bd4ca5b7812bb0a39411bb', 'dataset': 'cifar-10', 'batch_size': '128', 'epochs': '10', 'branch_name': 'annealing', 'Dr_subset_size': '0.3', 'lr': '0.0001', 'wd': '0.0005', 'optimizer': 'Adam (\\nParameter Group 0\\n    amsgrad: False\\n    betas: (0.9, 0.999)\\n    capturable: False\\n    differentiable: False\\n    eps: 1e-08\\n    foreach: None\\n    fused: None\\n    lr: 0.0001\\n    maximize: False\\n    weight_decay: 0.0005\\n)', 'tempScheduler': 'exponential', 'minTemp': '1.1', 'maxTemp': '16.0'}, {'datetime': '09-09-16-49', 'reference_run_name': 'retrained', 'reference_run_id': '6f1f93b6b21c44c5b232f92819931885', 'seed': '12', 'cudnn': 'slow', 'dataset': 'cifar-10', 'model': 'resnet18', 'batch_size': '128', 'epochs': '10', 'method': 'our', 'git_commit_hash': '61852c1aeb3f58d8f2dbb925a42ce9e530b9cdef', 'branch_name': 'annealing', 'Dr_subset_size': '0.3', 'lr': '0.0001', 'wd': '0.0005', 'tempScheduler': 'exponential', 'maxTemp': '16.0', 'beta': '0', 'optimizer': 'Adam (\\nParameter Group 0\\n    amsgrad: False\\n    betas: (0.9, 0.999)\\n    capturable: False\\n    differentiable: False\\n    eps: 1e-08\\n    foreach: None\\n    fused: None\\n    lr: 0.0001\\n    maximize: False\\n    weight_decay: 0.0005\\n)', 'minTemp': '1.1', 'probTransformer': 'gumbel-softmax'}\n",
      "Retrained: {'MIA': '0.76 ± 0.0', 'acc_forget': '0.92 ± 0.0', 'acc_retain': '0.99 ± 0.0', 't': '4.55 ± 3.35', 'l2': '33.88 ± 3.43'}\n",
      "Unlearned: {'MIA': '0.0 ± 0.0', 'acc_forget': '0.94 ± 0.0 (0.03 ± 0.0)', 'acc_retain': '0.98 ± 0.0 (0.02 ± 0.0)', 't': '0.26 ± 0.0', 'l2': '6.77 ± 0.01', 've': '33.85 ± 3.53'}\n"
     ]
    }
   ],
   "source": [
    "retrained_metrics1, retrained_params1 = get_metrics_and_params(\"4933a16e6e594a849a80a1aebb0132a8\")\n",
    "retrained_metrics2, retrained_params2 = get_metrics_and_params(\"115c419853bd4ca5b7812bb0a39411bb\")\n",
    "retrained_metrics3, retrained_params3 = get_metrics_and_params(\"6f1f93b6b21c44c5b232f92819931885\")\n",
    "\n",
    "unlearned_metrics1, unlearned_params1 = get_metrics_and_params(\"8b8049e1778747b983b1ec4f8cc7847e\")\n",
    "unlearned_metrics2, unlearned_params2 = get_metrics_and_params(\"59f2c21a24ea4ceaaf93b32e27b45400\")\n",
    "unlearned_metrics3, unlearned_params3 = get_metrics_and_params(\"d6b39048de914a3682419ba542aad400\")\n",
    "\n",
    "# Hyper-parameters of unlearned models\n",
    "print(f\"Hyperparams: {unlearned_params1}, {unlearned_params2}, {unlearned_params3}\")\n",
    "\n",
    "cifar10_resnet_retrained_metrics, cifar10_resnet_unlearned_metrics = get_metrics_overview(retrained_metrics1, retrained_metrics2, retrained_metrics3, unlearned_metrics1, unlearned_metrics2, unlearned_metrics3)\n",
    "print(f\"Retrained: {cifar10_resnet_retrained_metrics}\")\n",
    "print(f\"Unlearned: {cifar10_resnet_unlearned_metrics}\")"
   ]
  },
  {
   "cell_type": "markdown",
   "metadata": {},
   "source": [
    "## CIFAR-100 (ResNet18)"
   ]
  },
  {
   "cell_type": "code",
   "execution_count": 56,
   "metadata": {},
   "outputs": [
    {
     "name": "stdout",
     "output_type": "stream",
     "text": [
      "{'seed': '3407', 'git_commit_hash': '61852c1aeb3f58d8f2dbb925a42ce9e530b9cdef', 'maxTemp': '4.0', 'beta': '0', 'cudnn': 'slow', 'dataset': 'cifar-100', 'model': 'resnet18', 'epochs': '10', 'method': 'our', 'branch_name': 'annealing', 'Dr_subset_size': '0.3', 'lr': '0.0001', 'wd': '0.0005', 'optimizer': 'Adam (\\nParameter Group 0\\n    amsgrad: False\\n    betas: (0.9, 0.999)\\n    capturable: False\\n    differentiable: False\\n    eps: 1e-08\\n    foreach: None\\n    fused: None\\n    lr: 0.0001\\n    maximize: False\\n    weight_decay: 0.0005\\n)', 'tempScheduler': 'exponential', 'datetime': '09-09-17-16', 'reference_run_name': 'retrained', 'reference_run_id': 'd2d5d47fee764f8aa3ef70f464e8fc71', 'minTemp': '1.1', 'probTransformer': 'gumbel-softmax', 'batch_size': '128'} {'branch_name': 'annealing', 'Dr_subset_size': '0.3', 'wd': '0.0005', 'tempScheduler': 'exponential', 'git_commit_hash': '61852c1aeb3f58d8f2dbb925a42ce9e530b9cdef', 'lr': '0.0001', 'optimizer': 'Adam (\\nParameter Group 0\\n    amsgrad: False\\n    betas: (0.9, 0.999)\\n    capturable: False\\n    differentiable: False\\n    eps: 1e-08\\n    foreach: None\\n    fused: None\\n    lr: 0.0001\\n    maximize: False\\n    weight_decay: 0.0005\\n)', 'minTemp': '1.1', 'maxTemp': '4.0', 'probTransformer': 'gumbel-softmax', 'beta': '0', 'datetime': '09-09-17-14', 'reference_run_name': 'retrained', 'seed': '13', 'cudnn': 'slow', 'dataset': 'cifar-100', 'model': 'resnet18', 'batch_size': '128', 'epochs': '10', 'method': 'our', 'reference_run_id': '807e0d22e0714b6e85f08d2f4c40c1f4'} {'reference_run_name': 'retrained', 'reference_run_id': '080fcf72b43a40c1b44f6a4d472b4b26', 'seed': '12', 'cudnn': 'slow', 'dataset': 'cifar-100', 'model': 'resnet18', 'batch_size': '128', 'epochs': '10', 'method': 'our', 'git_commit_hash': '61852c1aeb3f58d8f2dbb925a42ce9e530b9cdef', 'minTemp': '1.1', 'probTransformer': 'gumbel-softmax', 'beta': '0', 'datetime': '09-09-17-12', 'branch_name': 'annealing', 'Dr_subset_size': '0.3', 'lr': '0.0001', 'wd': '0.0005', 'optimizer': 'Adam (\\nParameter Group 0\\n    amsgrad: False\\n    betas: (0.9, 0.999)\\n    capturable: False\\n    differentiable: False\\n    eps: 1e-08\\n    foreach: None\\n    fused: None\\n    lr: 0.0001\\n    maximize: False\\n    weight_decay: 0.0005\\n)', 'tempScheduler': 'exponential', 'maxTemp': '4.0'}\n",
      "Retrained: {'MIA': '0.49 ± 0.0', 'acc_forget': '0.58 ± 0.0', 'acc_retain': '0.94 ± 0.0', 't': '1.39 ± 0.04', 'l2': '70.35 ± 7.23'}\n",
      "Unlearned: {'MIA': '0.0 ± 0.0', 'acc_forget': '0.78 ± 0.0 (0.2 ± 0.0)', 'acc_retain': '0.91 ± 0.0 (0.03 ± 0.0)', 't': '0.26 ± 0.0', 'l2': '9.95 ± 0.0', 've': '69.41 ± 6.91'}\n"
     ]
    }
   ],
   "source": [
    "retrained_metrics1, retrained_params1 = get_metrics_and_params(\"d2d5d47fee764f8aa3ef70f464e8fc71\")\n",
    "retrained_metrics2, retrained_params2 = get_metrics_and_params(\"807e0d22e0714b6e85f08d2f4c40c1f4\")\n",
    "retrained_metrics3, retrained_params3 = get_metrics_and_params(\"080fcf72b43a40c1b44f6a4d472b4b26\")\n",
    "\n",
    "unlearned_metrics1, unlearned_params1 = get_metrics_and_params(\"fec0002f10214d4fa849d3508d3fc18e\")\n",
    "unlearned_metrics2, unlearned_params2 = get_metrics_and_params(\"61aaf4e9a4134d268b10e313fafe7a08\")\n",
    "unlearned_metrics3, unlearned_params3 = get_metrics_and_params(\"a82abae8634f4246b060c89c29b73cee\")\n",
    "\n",
    "# Hyper-parameters of unlearned models\n",
    "print(unlearned_params1, unlearned_params2, unlearned_params3)\n",
    "\n",
    "cifar100_resnet_retrained_metrics, cifar100_resnet_unlearned_metrics = get_metrics_overview(retrained_metrics1, retrained_metrics2, retrained_metrics3, unlearned_metrics1, unlearned_metrics2, unlearned_metrics3)\n",
    "print(f\"Retrained: {cifar100_resnet_retrained_metrics}\")\n",
    "print(f\"Unlearned: {cifar100_resnet_unlearned_metrics}\")"
   ]
  },
  {
   "cell_type": "markdown",
   "metadata": {},
   "source": [
    "## MUFAC (ResNet18)"
   ]
  },
  {
   "cell_type": "code",
   "execution_count": 58,
   "metadata": {},
   "outputs": [
    {
     "name": "stdout",
     "output_type": "stream",
     "text": [
      "{'datetime': '09-09-17-51', 'reference_run_id': '7fbc281913c74e6aa1eef899758b9ff2', 'cudnn': 'slow', 'model': 'resnet18', 'minTemp': '1.1', 'maxTemp': '32.0', 'probTransformer': 'gumbel-softmax', 'beta': '0', 'reference_run_name': 'retrained', 'seed': '3407', 'dataset': 'mufac', 'batch_size': '128', 'epochs': '10', 'method': 'our', 'git_commit_hash': '61852c1aeb3f58d8f2dbb925a42ce9e530b9cdef', 'branch_name': 'annealing', 'Dr_subset_size': '0.3', 'lr': '0.0001', 'wd': '0.0005', 'optimizer': 'Adam (\\nParameter Group 0\\n    amsgrad: False\\n    betas: (0.9, 0.999)\\n    capturable: False\\n    differentiable: False\\n    eps: 1e-08\\n    foreach: None\\n    fused: None\\n    lr: 0.0001\\n    maximize: False\\n    weight_decay: 0.0005\\n)', 'tempScheduler': 'exponential'} {'method': 'our', 'branch_name': 'annealing', 'Dr_subset_size': '0.3', 'lr': '0.0001', 'epochs': '10', 'tempScheduler': 'exponential', 'maxTemp': '32.0', 'probTransformer': 'gumbel-softmax', 'beta': '0', 'wd': '0.0005', 'optimizer': 'Adam (\\nParameter Group 0\\n    amsgrad: False\\n    betas: (0.9, 0.999)\\n    capturable: False\\n    differentiable: False\\n    eps: 1e-08\\n    foreach: None\\n    fused: None\\n    lr: 0.0001\\n    maximize: False\\n    weight_decay: 0.0005\\n)', 'minTemp': '1.1', 'datetime': '09-09-17-50', 'reference_run_name': 'retrained', 'reference_run_id': 'cb0ce77530b84dc193593a6d340ae978', 'seed': '13', 'cudnn': 'slow', 'dataset': 'mufac', 'model': 'resnet18', 'batch_size': '128', 'git_commit_hash': '61852c1aeb3f58d8f2dbb925a42ce9e530b9cdef'} {'seed': '12', 'method': 'our', 'branch_name': 'annealing', 'Dr_subset_size': '0.3', 'lr': '0.0001', 'wd': '0.0005', 'optimizer': 'Adam (\\nParameter Group 0\\n    amsgrad: False\\n    betas: (0.9, 0.999)\\n    capturable: False\\n    differentiable: False\\n    eps: 1e-08\\n    foreach: None\\n    fused: None\\n    lr: 0.0001\\n    maximize: False\\n    weight_decay: 0.0005\\n)', 'datetime': '09-09-17-49', 'cudnn': 'slow', 'reference_run_name': 'retrained', 'reference_run_id': '28a660ce59e5477da488052c62d717cc', 'dataset': 'mufac', 'model': 'resnet18', 'batch_size': '128', 'epochs': '10', 'git_commit_hash': '61852c1aeb3f58d8f2dbb925a42ce9e530b9cdef', 'tempScheduler': 'exponential', 'minTemp': '1.1', 'maxTemp': '32.0', 'probTransformer': 'gumbel-softmax', 'beta': '0'}\n",
      "Retrained: {'MIA': '0.49 ± 0.0', 'acc_forget': '0.47 ± 0.0', 'acc_retain': '0.89 ± 0.0', 't': '3.11 ± 0.42', 'l2': '32.71 ± 0.15'}\n",
      "Unlearned: {'MIA': '0.38 ± 0.0', 'acc_forget': '0.73 ± 0.0 (0.26 ± 0.0)', 'acc_retain': '0.85 ± 0.0 (0.06 ± 0.0)', 't': '0.53 ± 0.0', 'l2': '4.18 ± 0.0', 've': '32.85 ± 0.17'}\n"
     ]
    }
   ],
   "source": [
    "retrained_metrics1, retrained_params1 = get_metrics_and_params(\"7fbc281913c74e6aa1eef899758b9ff2\")\n",
    "retrained_metrics2, retrained_params2 = get_metrics_and_params(\"cb0ce77530b84dc193593a6d340ae978\")\n",
    "retrained_metrics3, retrained_params3 = get_metrics_and_params(\"28a660ce59e5477da488052c62d717cc\")\n",
    "\n",
    "unlearned_metrics1, unlearned_params1 = get_metrics_and_params(\"5ef737a644314bacbc5ccc492c5fb9e3\")\n",
    "unlearned_metrics2, unlearned_params2 = get_metrics_and_params(\"92d2fd7c6ee44ab58d01f10e1974a3a8\")\n",
    "unlearned_metrics3, unlearned_params3 = get_metrics_and_params(\"c31fcbc172b44dcd87de5cdf646c572d\")\n",
    "\n",
    "# Hyper-parameters of unlearned models\n",
    "print(unlearned_params1, unlearned_params2, unlearned_params3)\n",
    "\n",
    "mufac_resnet_retrained_metrics, mufac_resnet_unlearned_metrics = get_metrics_overview(retrained_metrics1, retrained_metrics2, retrained_metrics3, unlearned_metrics1, unlearned_metrics2, unlearned_metrics3, percentage=False)\n",
    "print(f\"Retrained: {mufac_resnet_retrained_metrics}\")\n",
    "print(f\"Unlearned: {mufac_resnet_unlearned_metrics}\")"
   ]
  },
  {
   "cell_type": "markdown",
   "metadata": {},
   "source": [
    "## IageNet (ResNet18)"
   ]
  },
  {
   "cell_type": "code",
   "execution_count": null,
   "metadata": {},
   "outputs": [],
   "source": []
  },
  {
   "cell_type": "markdown",
   "metadata": {},
   "source": [
    "## CIFAR-10 (ViT)"
   ]
  },
  {
   "cell_type": "code",
   "execution_count": null,
   "metadata": {},
   "outputs": [],
   "source": [
    "retrained_metrics1, retrained_params1 = get_metrics_and_params(\"\")\n",
    "retrained_metrics2, retrained_params2 = get_metrics_and_params(\"\")\n",
    "retrained_metrics3, retrained_params3 = get_metrics_and_params(\"\")\n",
    "\n",
    "unlearned_metrics1, unlearned_params1 = get_metrics_and_params(\"\")\n",
    "unlearned_metrics2, unlearned_params2 = get_metrics_and_params(\"\")\n",
    "unlearned_metrics3, unlearned_params3 = get_metrics_and_params(\"\")\n",
    "\n",
    "# Hyper-parameters of unlearned models\n",
    "print(unlearned_params1, unlearned_params2, unlearned_params3)\n",
    "\n",
    "cifar10_vit_retrained_metrics, cifar10_vit_unlearned_metrics = get_metrics_overview(retrained_metrics1, retrained_metrics2, retrained_metrics3, unlearned_metrics1, unlearned_metrics2, unlearned_metrics3, percentage=False)\n",
    "print(f\"Retrained: {cifar10_vit_retrained_metrics}\")\n",
    "print(f\"Unlearned: {cifar10_vit_unlearned_metrics}\")"
   ]
  }
 ],
 "metadata": {
  "kernelspec": {
   "display_name": "MaUn",
   "language": "python",
   "name": "python3"
  },
  "language_info": {
   "codemirror_mode": {
    "name": "ipython",
    "version": 3
   },
   "file_extension": ".py",
   "mimetype": "text/x-python",
   "name": "python",
   "nbconvert_exporter": "python",
   "pygments_lexer": "ipython3",
   "version": "3.11.5"
  }
 },
 "nbformat": 4,
 "nbformat_minor": 2
}
