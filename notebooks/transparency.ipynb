{
 "cells": [
  {
   "cell_type": "code",
   "execution_count": 12,
   "metadata": {},
   "outputs": [],
   "source": [
    "import mlflow\n",
    "import numpy as np\n",
    "\n",
    "def get_metrics_and_params(run_id):\n",
    "    client = mlflow.tracking.MlflowClient(tracking_uri='http://127.0.0.1:5000/')\n",
    "    run = client.get_run(run_id)\n",
    "    metrics = run.data.metrics\n",
    "    params = run.data.params\n",
    "    return metrics, params\n",
    "\n",
    "def get_mean_and_std(val1, val2, val3):\n",
    "    mean = (val1 + val2 + val3) / 3\n",
    "    std = np.sqrt(((val1 - mean)**2 + (val2 - mean)**2 + (val3 - mean)**2) / 3)\n",
    "    return round(mean,2), round(std,2)\n",
    "\n",
    "def get_metrics_overview(retrained_metrics_1, retrained_metrics_2, retrained_metrics_3, unlearned_metrics_1, unlearned_metrics_2, unlearned_metrics_3, percentage=True):\n",
    "    if 'MIA_prob' not in retrained_metrics_1:\n",
    "        retrained_metrics_1['MIA_prob'] = retrained_metrics_1['membership_attack_prob']\n",
    "    if percentage:\n",
    "        for met in [\"MIA_prob\", \"acc_forget\", \"acc_retain\"]:\n",
    "            retrained_metrics_1[met] = round(retrained_metrics_1[met]/100,2)\n",
    "            retrained_metrics_2[met] = round(retrained_metrics_2[met]/100,2)\n",
    "            retrained_metrics_3[met] = round(retrained_metrics_3[met]/100,2)\n",
    "\n",
    "\n",
    "    r_mia_mean, r_mia_std = get_mean_and_std(retrained_metrics_1['MIA_prob'], retrained_metrics_2['MIA_prob'], retrained_metrics_3['MIA_prob'])\n",
    "    r_acc_forget_mean, r_acc_forget_std = get_mean_and_std(retrained_metrics_1['acc_forget'], retrained_metrics_2['acc_forget'], retrained_metrics_3['acc_forget'])\n",
    "    r_acc_retain_mean, r_acc_retain_std = get_mean_and_std(retrained_metrics_1['acc_retain'], retrained_metrics_2['acc_retain'], retrained_metrics_3['acc_retain'])\n",
    "    r_t_mean, r_t_std = get_mean_and_std(retrained_metrics_1['t'], retrained_metrics_2['t'], retrained_metrics_3['t'])\n",
    "    r_l2_mean, r_l2_std = get_mean_and_std(retrained_metrics_1['l2'], retrained_metrics_2['l2'], retrained_metrics_3['l2'])\n",
    "\n",
    "    u_mia_mean, u_mia_std = get_mean_and_std(unlearned_metrics_1['MIA_prob'], unlearned_metrics_2['MIA_prob'], unlearned_metrics_3['MIA_prob'])\n",
    "    u_acc_forget_mean, u_acc_forget_std = get_mean_and_std(unlearned_metrics_1['acc_forget'], unlearned_metrics_2['acc_forget'], unlearned_metrics_3['acc_forget'])\n",
    "    u_acc_retain_mean, u_acc_retain_std = get_mean_and_std(unlearned_metrics_1['acc_retain'], unlearned_metrics_2['acc_retain'], unlearned_metrics_3['acc_retain'])\n",
    "    u_t_mean, u_t_std = get_mean_and_std(unlearned_metrics_1['t'], unlearned_metrics_2['t'], unlearned_metrics_3['t'])\n",
    "    u_l2_mean, u_l2_std = get_mean_and_std(unlearned_metrics_1['l2'], unlearned_metrics_2['l2'], unlearned_metrics_3['l2'])\n",
    "    u_ve_mean, u_ve_std = get_mean_and_std(unlearned_metrics_1['VE'], unlearned_metrics_2['VE'], unlearned_metrics_3['VE'])\n",
    "\n",
    "    diff_acc_forget_mean, diff_acc_forget_std = get_mean_and_std(abs(retrained_metrics_1['acc_forget'] - unlearned_metrics_1['acc_forget']), abs(retrained_metrics_2['acc_forget'] - unlearned_metrics_2['acc_forget']), abs(retrained_metrics_3['acc_forget'] - unlearned_metrics_3['acc_forget']))\n",
    "    diff_acc_retain_mean, diff_acc_retain_std = get_mean_and_std(abs(retrained_metrics_1['acc_retain'] - unlearned_metrics_1['acc_retain']), abs(retrained_metrics_2['acc_retain'] - unlearned_metrics_2['acc_retain']), abs(retrained_metrics_3['acc_retain'] - unlearned_metrics_3['acc_retain']))\n",
    "\n",
    "    retrained_metrics_overview = {\"MIA\": f\"{r_mia_mean} ± {r_mia_std}\", \"acc_forget\": f\"{r_acc_forget_mean} ± {r_acc_forget_std}\", \"acc_retain\": f\"{r_acc_retain_mean} ± {r_acc_retain_std}\", \"t\": f\"{r_t_mean} ± {r_t_std}\", \"l2\": f\"{r_l2_mean} ± {r_l2_std}\"}\n",
    "    unlearned_metrics_overview = {\"MIA\": f\"{u_mia_mean} ± {u_mia_std}\", \"acc_forget\": f\"{u_acc_forget_mean} ± {u_acc_forget_std} ({diff_acc_forget_mean} ± {diff_acc_forget_std})\", \"acc_retain\": f\"{u_acc_retain_mean} ± {u_acc_retain_std} ({diff_acc_retain_mean} ± {diff_acc_retain_std})\", \"t\": f\"{u_t_mean} ± {u_t_std}\", \"l2\": f\"{u_l2_mean} ± {u_l2_std}\", \"ve\": f\"{u_ve_mean} ± {u_ve_std}\"}\n",
    "    return retrained_metrics_overview, unlearned_metrics_overview"
   ]
  },
  {
   "cell_type": "markdown",
   "metadata": {},
   "source": [
    "# Instance-wise Unlearning\n",
    "Description: Forget specific datapoints across all the classes."
   ]
  },
  {
   "cell_type": "markdown",
   "metadata": {},
   "source": [
    "## CIFAR-10 (ResNet18)"
   ]
  },
  {
   "cell_type": "code",
   "execution_count": 13,
   "metadata": {},
   "outputs": [
    {
     "name": "stdout",
     "output_type": "stream",
     "text": [
      "Hyperparams: {'reference_run_name': 'retrained', 'reference_run_id': '4933a16e6e594a849a80a1aebb0132a8', 'seed': '3407', 'cudnn': 'slow', 'dataset': 'cifar-10', 'branch_name': 'annealing', 'Dr_subset_size': '0.3', 'lr': '0.0001', 'wd': '0.0005', 'optimizer': 'Adam (\\nParameter Group 0\\n    amsgrad: False\\n    betas: (0.9, 0.999)\\n    capturable: False\\n    differentiable: False\\n    eps: 1e-08\\n    foreach: None\\n    fused: None\\n    lr: 0.0001\\n    maximize: False\\n    weight_decay: 0.0005\\n)', 'tempScheduler': 'exponential', 'minTemp': '1.1', 'maxTemp': '16.0', 'probTransformer': 'gumbel-softmax', 'datetime': '09-09-16-53', 'epochs': '10', 'method': 'our', 'git_commit_hash': '61852c1aeb3f58d8f2dbb925a42ce9e530b9cdef', 'model': 'resnet18', 'batch_size': '128', 'beta': '0'}, {'git_commit_hash': '61852c1aeb3f58d8f2dbb925a42ce9e530b9cdef', 'probTransformer': 'gumbel-softmax', 'beta': '0', 'reference_run_name': 'retrained', 'seed': '13', 'cudnn': 'slow', 'model': 'resnet18', 'method': 'our', 'datetime': '09-09-16-51', 'reference_run_id': '115c419853bd4ca5b7812bb0a39411bb', 'dataset': 'cifar-10', 'batch_size': '128', 'epochs': '10', 'branch_name': 'annealing', 'Dr_subset_size': '0.3', 'lr': '0.0001', 'wd': '0.0005', 'optimizer': 'Adam (\\nParameter Group 0\\n    amsgrad: False\\n    betas: (0.9, 0.999)\\n    capturable: False\\n    differentiable: False\\n    eps: 1e-08\\n    foreach: None\\n    fused: None\\n    lr: 0.0001\\n    maximize: False\\n    weight_decay: 0.0005\\n)', 'tempScheduler': 'exponential', 'minTemp': '1.1', 'maxTemp': '16.0'}, {'datetime': '09-09-16-49', 'reference_run_name': 'retrained', 'reference_run_id': '6f1f93b6b21c44c5b232f92819931885', 'seed': '12', 'cudnn': 'slow', 'dataset': 'cifar-10', 'model': 'resnet18', 'batch_size': '128', 'epochs': '10', 'method': 'our', 'git_commit_hash': '61852c1aeb3f58d8f2dbb925a42ce9e530b9cdef', 'branch_name': 'annealing', 'Dr_subset_size': '0.3', 'lr': '0.0001', 'wd': '0.0005', 'tempScheduler': 'exponential', 'maxTemp': '16.0', 'beta': '0', 'optimizer': 'Adam (\\nParameter Group 0\\n    amsgrad: False\\n    betas: (0.9, 0.999)\\n    capturable: False\\n    differentiable: False\\n    eps: 1e-08\\n    foreach: None\\n    fused: None\\n    lr: 0.0001\\n    maximize: False\\n    weight_decay: 0.0005\\n)', 'minTemp': '1.1', 'probTransformer': 'gumbel-softmax'}\n",
      "Retrained: {'MIA': '0.76 ± 0.02', 'acc_forget': '0.92 ± 0.02', 'acc_retain': '0.99 ± 0.02', 't': '4.55 ± 1.83', 'l2': '33.88 ± 1.85'}\n",
      "Unlearned: {'MIA': '0.0 ± 0.0', 'acc_forget': '0.94 ± 0.0 (0.03 ± 0.02)', 'acc_retain': '0.98 ± 0.0 (0.02 ± 0.0)', 't': '0.26 ± 0.0', 'l2': '6.77 ± 0.07', 've': '33.85 ± 1.88'}\n"
     ]
    }
   ],
   "source": [
    "retrained_metrics1, retrained_params1 = get_metrics_and_params(\"4933a16e6e594a849a80a1aebb0132a8\")\n",
    "retrained_metrics2, retrained_params2 = get_metrics_and_params(\"115c419853bd4ca5b7812bb0a39411bb\")\n",
    "retrained_metrics3, retrained_params3 = get_metrics_and_params(\"6f1f93b6b21c44c5b232f92819931885\")\n",
    "\n",
    "unlearned_metrics1, unlearned_params1 = get_metrics_and_params(\"8b8049e1778747b983b1ec4f8cc7847e\")\n",
    "unlearned_metrics2, unlearned_params2 = get_metrics_and_params(\"59f2c21a24ea4ceaaf93b32e27b45400\")\n",
    "unlearned_metrics3, unlearned_params3 = get_metrics_and_params(\"d6b39048de914a3682419ba542aad400\")\n",
    "\n",
    "# Hyper-parameters of unlearned models\n",
    "print(f\"Hyperparams: {unlearned_params1}, {unlearned_params2}, {unlearned_params3}\")\n",
    "\n",
    "cifar10_resnet_retrained_metrics, cifar10_resnet_unlearned_metrics = get_metrics_overview(retrained_metrics1, retrained_metrics2, retrained_metrics3, unlearned_metrics1, unlearned_metrics2, unlearned_metrics3)\n",
    "print(f\"Retrained: {cifar10_resnet_retrained_metrics}\")\n",
    "print(f\"Unlearned: {cifar10_resnet_unlearned_metrics}\")"
   ]
  },
  {
   "cell_type": "markdown",
   "metadata": {},
   "source": [
    "## CIFAR-100 (ResNet18)"
   ]
  },
  {
   "cell_type": "code",
   "execution_count": 14,
   "metadata": {},
   "outputs": [
    {
     "name": "stdout",
     "output_type": "stream",
     "text": [
      "{'seed': '3407', 'git_commit_hash': '61852c1aeb3f58d8f2dbb925a42ce9e530b9cdef', 'maxTemp': '4.0', 'beta': '0', 'cudnn': 'slow', 'dataset': 'cifar-100', 'model': 'resnet18', 'epochs': '10', 'method': 'our', 'branch_name': 'annealing', 'Dr_subset_size': '0.3', 'lr': '0.0001', 'wd': '0.0005', 'optimizer': 'Adam (\\nParameter Group 0\\n    amsgrad: False\\n    betas: (0.9, 0.999)\\n    capturable: False\\n    differentiable: False\\n    eps: 1e-08\\n    foreach: None\\n    fused: None\\n    lr: 0.0001\\n    maximize: False\\n    weight_decay: 0.0005\\n)', 'tempScheduler': 'exponential', 'datetime': '09-09-17-16', 'reference_run_name': 'retrained', 'reference_run_id': 'd2d5d47fee764f8aa3ef70f464e8fc71', 'minTemp': '1.1', 'probTransformer': 'gumbel-softmax', 'batch_size': '128'} {'branch_name': 'annealing', 'Dr_subset_size': '0.3', 'wd': '0.0005', 'tempScheduler': 'exponential', 'git_commit_hash': '61852c1aeb3f58d8f2dbb925a42ce9e530b9cdef', 'lr': '0.0001', 'optimizer': 'Adam (\\nParameter Group 0\\n    amsgrad: False\\n    betas: (0.9, 0.999)\\n    capturable: False\\n    differentiable: False\\n    eps: 1e-08\\n    foreach: None\\n    fused: None\\n    lr: 0.0001\\n    maximize: False\\n    weight_decay: 0.0005\\n)', 'minTemp': '1.1', 'maxTemp': '4.0', 'probTransformer': 'gumbel-softmax', 'beta': '0', 'datetime': '09-09-17-14', 'reference_run_name': 'retrained', 'seed': '13', 'cudnn': 'slow', 'dataset': 'cifar-100', 'model': 'resnet18', 'batch_size': '128', 'epochs': '10', 'method': 'our', 'reference_run_id': '807e0d22e0714b6e85f08d2f4c40c1f4'} {'reference_run_name': 'retrained', 'reference_run_id': '080fcf72b43a40c1b44f6a4d472b4b26', 'seed': '12', 'cudnn': 'slow', 'dataset': 'cifar-100', 'model': 'resnet18', 'batch_size': '128', 'epochs': '10', 'method': 'our', 'git_commit_hash': '61852c1aeb3f58d8f2dbb925a42ce9e530b9cdef', 'minTemp': '1.1', 'probTransformer': 'gumbel-softmax', 'beta': '0', 'datetime': '09-09-17-12', 'branch_name': 'annealing', 'Dr_subset_size': '0.3', 'lr': '0.0001', 'wd': '0.0005', 'optimizer': 'Adam (\\nParameter Group 0\\n    amsgrad: False\\n    betas: (0.9, 0.999)\\n    capturable: False\\n    differentiable: False\\n    eps: 1e-08\\n    foreach: None\\n    fused: None\\n    lr: 0.0001\\n    maximize: False\\n    weight_decay: 0.0005\\n)', 'tempScheduler': 'exponential', 'maxTemp': '4.0'}\n",
      "Retrained: {'MIA': '0.49 ± 0.01', 'acc_forget': '0.58 ± 0.01', 'acc_retain': '0.94 ± 0.02', 't': '1.39 ± 0.2', 'l2': '70.35 ± 2.69'}\n",
      "Unlearned: {'MIA': '0.0 ± 0.0', 'acc_forget': '0.78 ± 0.01 (0.2 ± 0.01)', 'acc_retain': '0.91 ± 0.02 (0.03 ± 0.02)', 't': '0.26 ± 0.0', 'l2': '9.95 ± 0.04', 've': '69.41 ± 2.63'}\n"
     ]
    }
   ],
   "source": [
    "retrained_metrics1, retrained_params1 = get_metrics_and_params(\"d2d5d47fee764f8aa3ef70f464e8fc71\")\n",
    "retrained_metrics2, retrained_params2 = get_metrics_and_params(\"807e0d22e0714b6e85f08d2f4c40c1f4\")\n",
    "retrained_metrics3, retrained_params3 = get_metrics_and_params(\"080fcf72b43a40c1b44f6a4d472b4b26\")\n",
    "\n",
    "unlearned_metrics1, unlearned_params1 = get_metrics_and_params(\"fec0002f10214d4fa849d3508d3fc18e\")\n",
    "unlearned_metrics2, unlearned_params2 = get_metrics_and_params(\"61aaf4e9a4134d268b10e313fafe7a08\")\n",
    "unlearned_metrics3, unlearned_params3 = get_metrics_and_params(\"a82abae8634f4246b060c89c29b73cee\")\n",
    "\n",
    "# Hyper-parameters of unlearned models\n",
    "print(unlearned_params1, unlearned_params2, unlearned_params3)\n",
    "\n",
    "cifar100_resnet_retrained_metrics, cifar100_resnet_unlearned_metrics = get_metrics_overview(retrained_metrics1, retrained_metrics2, retrained_metrics3, unlearned_metrics1, unlearned_metrics2, unlearned_metrics3)\n",
    "print(f\"Retrained: {cifar100_resnet_retrained_metrics}\")\n",
    "print(f\"Unlearned: {cifar100_resnet_unlearned_metrics}\")"
   ]
  },
  {
   "cell_type": "markdown",
   "metadata": {},
   "source": [
    "## MUFAC (ResNet18)"
   ]
  },
  {
   "cell_type": "code",
   "execution_count": 15,
   "metadata": {},
   "outputs": [
    {
     "name": "stdout",
     "output_type": "stream",
     "text": [
      "{'branch_name': 'annealing', 'Dr_subset_size': '0.3', 'lr': '0.0001', 'minTemp': '1.1', 'reference_run_name': 'retrained', 'reference_run_id': '7fbc281913c74e6aa1eef899758b9ff2', 'batch_size': '128', 'epochs': '10', 'method': 'our', 'git_commit_hash': '61852c1aeb3f58d8f2dbb925a42ce9e530b9cdef', 'datetime': '09-09-18-05', 'seed': '3407', 'cudnn': 'slow', 'dataset': 'mufac', 'model': 'resnet18', 'wd': '0.0005', 'optimizer': 'Adam (\\nParameter Group 0\\n    amsgrad: False\\n    betas: (0.9, 0.999)\\n    capturable: False\\n    differentiable: False\\n    eps: 1e-08\\n    foreach: None\\n    fused: None\\n    lr: 0.0001\\n    maximize: False\\n    weight_decay: 0.0005\\n)', 'tempScheduler': 'exponential', 'maxTemp': '1024.0', 'beta': '0', 'probTransformer': 'gumbel-softmax'} {'reference_run_id': 'cb0ce77530b84dc193593a6d340ae978', 'reference_run_name': 'retrained', 'seed': '13', 'model': 'resnet18', 'optimizer': 'Adam (\\nParameter Group 0\\n    amsgrad: False\\n    betas: (0.9, 0.999)\\n    capturable: False\\n    differentiable: False\\n    eps: 1e-08\\n    foreach: None\\n    fused: None\\n    lr: 0.0001\\n    maximize: False\\n    weight_decay: 0.0005\\n)', 'tempScheduler': 'exponential', 'minTemp': '1.1', 'maxTemp': '1024.0', 'probTransformer': 'gumbel-softmax', 'beta': '0', 'batch_size': '128', 'epochs': '10', 'git_commit_hash': '61852c1aeb3f58d8f2dbb925a42ce9e530b9cdef', 'datetime': '09-09-18-04', 'cudnn': 'slow', 'dataset': 'mufac', 'method': 'our', 'branch_name': 'annealing', 'Dr_subset_size': '0.3', 'lr': '0.0001', 'wd': '0.0005'} {'epochs': '10', 'method': 'our', 'git_commit_hash': '61852c1aeb3f58d8f2dbb925a42ce9e530b9cdef', 'seed': '12', 'model': 'resnet18', 'cudnn': 'slow', 'dataset': 'mufac', 'branch_name': 'annealing', 'Dr_subset_size': '0.3', 'lr': '0.0001', 'wd': '0.0005', 'optimizer': 'Adam (\\nParameter Group 0\\n    amsgrad: False\\n    betas: (0.9, 0.999)\\n    capturable: False\\n    differentiable: False\\n    eps: 1e-08\\n    foreach: None\\n    fused: None\\n    lr: 0.0001\\n    maximize: False\\n    weight_decay: 0.0005\\n)', 'tempScheduler': 'exponential', 'minTemp': '1.1', 'maxTemp': '1024.0', 'probTransformer': 'gumbel-softmax', 'beta': '0', 'datetime': '09-09-18-03', 'reference_run_name': 'retrained', 'reference_run_id': '28a660ce59e5477da488052c62d717cc', 'batch_size': '128'}\n",
      "Retrained: {'MIA': '0.49 ± 0.02', 'acc_forget': '0.47 ± 0.03', 'acc_retain': '0.89 ± 0.03', 't': '3.11 ± 0.65', 'l2': '32.71 ± 0.39'}\n",
      "Unlearned: {'MIA': '0.26 ± 0.18', 'acc_forget': '0.66 ± 0.04 (0.19 ± 0.04)', 'acc_retain': '0.83 ± 0.04 (0.07 ± 0.07)', 't': '0.53 ± 0.0', 'l2': '4.56 ± 0.06', 've': '32.88 ± 0.4'}\n"
     ]
    }
   ],
   "source": [
    "retrained_metrics1, retrained_params1 = get_metrics_and_params(\"7fbc281913c74e6aa1eef899758b9ff2\")\n",
    "retrained_metrics2, retrained_params2 = get_metrics_and_params(\"cb0ce77530b84dc193593a6d340ae978\")\n",
    "retrained_metrics3, retrained_params3 = get_metrics_and_params(\"28a660ce59e5477da488052c62d717cc\")\n",
    "\n",
    "unlearned_metrics1, unlearned_params1 = get_metrics_and_params(\"a60f775a1f744dfeaae939493644bf32\")\n",
    "unlearned_metrics2, unlearned_params2 = get_metrics_and_params(\"a842b31ae3e14bd5a33bccda833118bb\")\n",
    "unlearned_metrics3, unlearned_params3 = get_metrics_and_params(\"b7e788aee6d54ead88186c3c1388b454\")\n",
    "\n",
    "# Hyper-parameters of unlearned models\n",
    "print(unlearned_params1, unlearned_params2, unlearned_params3)\n",
    "\n",
    "mufac_resnet_retrained_metrics, mufac_resnet_unlearned_metrics = get_metrics_overview(retrained_metrics1, retrained_metrics2, retrained_metrics3, unlearned_metrics1, unlearned_metrics2, unlearned_metrics3, percentage=False)\n",
    "print(f\"Retrained: {mufac_resnet_retrained_metrics}\")\n",
    "print(f\"Unlearned: {mufac_resnet_unlearned_metrics}\")"
   ]
  },
  {
   "cell_type": "markdown",
   "metadata": {},
   "source": [
    "## IageNet (ResNet18)"
   ]
  },
  {
   "cell_type": "code",
   "execution_count": null,
   "metadata": {},
   "outputs": [],
   "source": []
  },
  {
   "cell_type": "markdown",
   "metadata": {},
   "source": [
    "## CIFAR-10 (ViT)"
   ]
  },
  {
   "cell_type": "code",
   "execution_count": 18,
   "metadata": {},
   "outputs": [
    {
     "name": "stdout",
     "output_type": "stream",
     "text": [
      "{'reference_run_id': '1f63dc6939464f389da7a9582c31e92c', 'cudnn': 'slow', 'dataset': 'cifar-10', 'optimizer': 'Adam (\\nParameter Group 0\\n    amsgrad: False\\n    betas: (0.9, 0.999)\\n    capturable: False\\n    differentiable: False\\n    eps: 1e-08\\n    foreach: None\\n    fused: None\\n    lr: 1e-06\\n    maximize: False\\n    weight_decay: 0.0005\\n)', 'lr': '1e-06', 'wd': '0.0005', 'tempScheduler': 'exponential', 'minTemp': '1.1', 'datetime': '09-09-21-29', 'seed': '3407', 'model': 'vit', 'reference_run_name': 'retrained', 'batch_size': '32', 'epochs': '3', 'method': 'our', 'git_commit_hash': '61852c1aeb3f58d8f2dbb925a42ce9e530b9cdef', 'branch_name': 'annealing', 'Dr_subset_size': '0.3', 'maxTemp': '2.0', 'probTransformer': 'gumbel-softmax', 'beta': '0'} {'reference_run_name': 'retrained', 'branch_name': 'annealing', 'beta': '0', 'method': 'our', 'datetime': '09-09-21-15', 'batch_size': '32', 'epochs': '3', 'git_commit_hash': '61852c1aeb3f58d8f2dbb925a42ce9e530b9cdef', 'Dr_subset_size': '0.3', 'lr': '1e-06', 'wd': '0.0005', 'optimizer': 'Adam (\\nParameter Group 0\\n    amsgrad: False\\n    betas: (0.9, 0.999)\\n    capturable: False\\n    differentiable: False\\n    eps: 1e-08\\n    foreach: None\\n    fused: None\\n    lr: 1e-06\\n    maximize: False\\n    weight_decay: 0.0005\\n)', 'tempScheduler': 'exponential', 'minTemp': '1.1', 'maxTemp': '2.0', 'probTransformer': 'gumbel-softmax', 'reference_run_id': '749d4bea8d0e478581608b739f9cfee4', 'seed': '13', 'cudnn': 'slow', 'dataset': 'cifar-10', 'model': 'vit'} {'cudnn': 'slow', 'dataset': 'cifar-10', 'model': 'vit', 'batch_size': '32', 'epochs': '3', 'datetime': '09-09-21-00', 'reference_run_name': 'retrained', 'reference_run_id': '4a5b40adcd8948498b69a0b860f8f1d6', 'seed': '12', 'method': 'our', 'branch_name': 'annealing', 'Dr_subset_size': '0.3', 'lr': '1e-06', 'git_commit_hash': '61852c1aeb3f58d8f2dbb925a42ce9e530b9cdef', 'wd': '0.0005', 'optimizer': 'Adam (\\nParameter Group 0\\n    amsgrad: False\\n    betas: (0.9, 0.999)\\n    capturable: False\\n    differentiable: False\\n    eps: 1e-08\\n    foreach: None\\n    fused: None\\n    lr: 1e-06\\n    maximize: False\\n    weight_decay: 0.0005\\n)', 'tempScheduler': 'exponential', 'minTemp': '1.1', 'maxTemp': '2.0', 'probTransformer': 'gumbel-softmax', 'beta': '0'}\n",
      "Retrained: {'MIA': '0.88 ± 0.0', 'acc_forget': '0.99 ± 0.0', 'acc_retain': '1.0 ± 0.0', 't': '76.54 ± 5.44', 'l2': '0.83 ± 0.13'}\n",
      "Unlearned: {'MIA': '0.71 ± 0.01', 'acc_forget': '0.99 ± 0.0 (0.0 ± 0.0)', 'acc_retain': '0.99 ± 0.0 (0.01 ± 0.0)', 't': '6.49 ± 0.02', 'l2': '7.14 ± 0.03', 've': '7.8 ± 0.13'}\n"
     ]
    }
   ],
   "source": [
    "retrained_metrics1, retrained_params1 = get_metrics_and_params(\"1f63dc6939464f389da7a9582c31e92c\")\n",
    "retrained_metrics2, retrained_params2 = get_metrics_and_params(\"749d4bea8d0e478581608b739f9cfee4\")\n",
    "retrained_metrics3, retrained_params3 = get_metrics_and_params(\"4a5b40adcd8948498b69a0b860f8f1d6\")\n",
    "\n",
    "unlearned_metrics1, unlearned_params1 = get_metrics_and_params(\"9fa1ee7a4f5f4a60bed7a65469d92129\")\n",
    "unlearned_metrics2, unlearned_params2 = get_metrics_and_params(\"136b46bdc0074668914a543228193ee0\")\n",
    "unlearned_metrics3, unlearned_params3 = get_metrics_and_params(\"939b37f91cca4cd7bb6c480735e3b48e\")\n",
    "\n",
    "# Hyper-parameters of unlearned models\n",
    "print(unlearned_params1, unlearned_params2, unlearned_params3)\n",
    "\n",
    "cifar10_vit_retrained_metrics, cifar10_vit_unlearned_metrics = get_metrics_overview(retrained_metrics1, retrained_metrics2, retrained_metrics3, unlearned_metrics1, unlearned_metrics2, unlearned_metrics3, percentage=True)\n",
    "print(f\"Retrained: {cifar10_vit_retrained_metrics}\")\n",
    "print(f\"Unlearned: {cifar10_vit_unlearned_metrics}\")"
   ]
  },
  {
   "cell_type": "markdown",
   "metadata": {},
   "source": [
    "## CIFAR-100 (ViT)"
   ]
  },
  {
   "cell_type": "code",
   "execution_count": 19,
   "metadata": {},
   "outputs": [
    {
     "name": "stdout",
     "output_type": "stream",
     "text": [
      "{'git_commit_hash': '61852c1aeb3f58d8f2dbb925a42ce9e530b9cdef', 'branch_name': 'annealing', 'Dr_subset_size': '0.3', 'lr': '1e-06', 'wd': '0.0005', 'optimizer': 'Adam (\\nParameter Group 0\\n    amsgrad: False\\n    betas: (0.9, 0.999)\\n    capturable: False\\n    differentiable: False\\n    eps: 1e-08\\n    foreach: None\\n    fused: None\\n    lr: 1e-06\\n    maximize: False\\n    weight_decay: 0.0005\\n)', 'tempScheduler': 'exponential', 'minTemp': '1.1', 'maxTemp': '8.0', 'probTransformer': 'gumbel-softmax', 'beta': '0', 'datetime': '09-10-04-05', 'reference_run_name': 'retrained', 'reference_run_id': '7e1d79e5608e4505bf94b34312394f40', 'seed': '3407', 'cudnn': 'slow', 'dataset': 'cifar-100', 'model': 'vit', 'batch_size': '32', 'epochs': '3', 'method': 'our'} {'reference_run_id': '222b19b4fb4a43a4b39b815cefd3913e', 'cudnn': 'slow', 'dataset': 'cifar-100', 'model': 'vit', 'branch_name': 'annealing', 'datetime': '09-10-03-51', 'reference_run_name': 'retrained', 'seed': '13', 'epochs': '3', 'batch_size': '32', 'method': 'our', 'git_commit_hash': '61852c1aeb3f58d8f2dbb925a42ce9e530b9cdef', 'Dr_subset_size': '0.3', 'lr': '1e-06', 'wd': '0.0005', 'optimizer': 'Adam (\\nParameter Group 0\\n    amsgrad: False\\n    betas: (0.9, 0.999)\\n    capturable: False\\n    differentiable: False\\n    eps: 1e-08\\n    foreach: None\\n    fused: None\\n    lr: 1e-06\\n    maximize: False\\n    weight_decay: 0.0005\\n)', 'tempScheduler': 'exponential', 'minTemp': '1.1', 'maxTemp': '8.0', 'probTransformer': 'gumbel-softmax', 'beta': '0'} {'maxTemp': '8.0', 'datetime': '09-10-03-36', 'seed': '12', 'cudnn': 'slow', 'dataset': 'cifar-100', 'model': 'vit', 'batch_size': '32', 'branch_name': 'annealing', 'Dr_subset_size': '0.3', 'lr': '1e-06', 'wd': '0.0005', 'optimizer': 'Adam (\\nParameter Group 0\\n    amsgrad: False\\n    betas: (0.9, 0.999)\\n    capturable: False\\n    differentiable: False\\n    eps: 1e-08\\n    foreach: None\\n    fused: None\\n    lr: 1e-06\\n    maximize: False\\n    weight_decay: 0.0005\\n)', 'tempScheduler': 'exponential', 'minTemp': '1.1', 'beta': '0', 'reference_run_name': 'retrained', 'reference_run_id': '33b0b032d8144814acfc6bf8e9894ea5', 'epochs': '3', 'method': 'our', 'git_commit_hash': '61852c1aeb3f58d8f2dbb925a42ce9e530b9cdef', 'probTransformer': 'gumbel-softmax'}\n",
      "Retrained: {'MIA': '0.72 ± 0.0', 'acc_forget': '0.92 ± 0.0', 'acc_retain': '0.96 ± 0.0', 't': '115.08 ± 3.15', 'l2': '1.09 ± 0.01'}\n",
      "Unlearned: {'MIA': '0.57 ± 0.0', 'acc_forget': '0.93 ± 0.0 (0.01 ± 0.0)', 'acc_retain': '0.93 ± 0.0 (0.03 ± 0.0)', 't': '6.53 ± 0.0', 'l2': '3.92 ± 0.02', 've': '4.65 ± 0.01'}\n"
     ]
    }
   ],
   "source": [
    "retrained_metrics1, retrained_params1 = get_metrics_and_params(\"7e1d79e5608e4505bf94b34312394f40\")\n",
    "retrained_metrics2, retrained_params2 = get_metrics_and_params(\"222b19b4fb4a43a4b39b815cefd3913e\")\n",
    "retrained_metrics3, retrained_params3 = get_metrics_and_params(\"33b0b032d8144814acfc6bf8e9894ea5\")\n",
    "\n",
    "unlearned_metrics1, unlearned_params1 = get_metrics_and_params(\"decf0822275242c598c306178a8c5a02\")\n",
    "unlearned_metrics2, unlearned_params2 = get_metrics_and_params(\"054d3b98d7194468a1540d355db87f6d\")\n",
    "unlearned_metrics3, unlearned_params3 = get_metrics_and_params(\"8f459e54d10048a4a4adb661806a8c92\")\n",
    "\n",
    "# Hyper-parameters of unlearned models\n",
    "print(unlearned_params1, unlearned_params2, unlearned_params3)\n",
    "\n",
    "cifar100_vit_retrained_metrics, cifar100_vit_unlearned_metrics = get_metrics_overview(retrained_metrics1, retrained_metrics2, retrained_metrics3, unlearned_metrics1, unlearned_metrics2, unlearned_metrics3, percentage=True)\n",
    "print(f\"Retrained: {cifar100_vit_retrained_metrics}\")\n",
    "print(f\"Unlearned: {cifar100_vit_unlearned_metrics}\")"
   ]
  },
  {
   "cell_type": "markdown",
   "metadata": {},
   "source": [
    "## ImageNet (ViT)"
   ]
  },
  {
   "cell_type": "code",
   "execution_count": null,
   "metadata": {},
   "outputs": [],
   "source": []
  },
  {
   "cell_type": "markdown",
   "metadata": {},
   "source": [
    "# Class Unlearning"
   ]
  },
  {
   "cell_type": "markdown",
   "metadata": {},
   "source": [
    "## Cat - CIFAR10 (ResNet18)"
   ]
  },
  {
   "cell_type": "code",
   "execution_count": 20,
   "metadata": {},
   "outputs": [
    {
     "name": "stdout",
     "output_type": "stream",
     "text": [
      "{'epochs': '10', 'method': 'our', 'git_commit_hash': '61852c1aeb3f58d8f2dbb925a42ce9e530b9cdef', 'batch_size': '128', 'datetime': '09-10-14-13', 'reference_run_name': 'retrained', 'reference_run_id': '16f0a4c834614b5a92c9d7e29fa9c9e1', 'seed': '3407', 'cudnn': 'slow', 'dataset': 'cifar-10', 'model': 'resnet18', 'branch_name': 'annealing', 'Dr_subset_size': '0.3', 'lr': '0.0001', 'wd': '0.0005', 'optimizer': 'Adam (\\nParameter Group 0\\n    amsgrad: False\\n    betas: (0.9, 0.999)\\n    capturable: False\\n    differentiable: False\\n    eps: 1e-08\\n    foreach: None\\n    fused: None\\n    lr: 0.0001\\n    maximize: False\\n    weight_decay: 0.0005\\n)', 'tempScheduler': 'exponential', 'minTemp': '1.1', 'maxTemp': '512.0', 'probTransformer': 'gumbel-softmax', 'beta': '1.0'} {'datetime': '09-10-14-11', 'reference_run_name': 'retrained', 'reference_run_id': '6eeb9fe80346484abe64144c248fcff7', 'seed': '13', 'cudnn': 'slow', 'dataset': 'cifar-10', 'model': 'resnet18', 'batch_size': '128', 'epochs': '10', 'method': 'our', 'git_commit_hash': '61852c1aeb3f58d8f2dbb925a42ce9e530b9cdef', 'branch_name': 'annealing', 'Dr_subset_size': '0.3', 'lr': '0.0001', 'wd': '0.0005', 'optimizer': 'Adam (\\nParameter Group 0\\n    amsgrad: False\\n    betas: (0.9, 0.999)\\n    capturable: False\\n    differentiable: False\\n    eps: 1e-08\\n    foreach: None\\n    fused: None\\n    lr: 0.0001\\n    maximize: False\\n    weight_decay: 0.0005\\n)', 'tempScheduler': 'exponential', 'minTemp': '1.1', 'maxTemp': '512.0', 'probTransformer': 'gumbel-softmax', 'beta': '1.0'} {'datetime': '09-10-14-09', 'reference_run_name': 'retrained', 'reference_run_id': 'b0cd7a957388400eb9d46aaeb3091ab5', 'seed': '12', 'cudnn': 'slow', 'branch_name': 'annealing', 'Dr_subset_size': '0.3', 'lr': '0.0001', 'wd': '0.0005', 'tempScheduler': 'exponential', 'maxTemp': '512.0', 'probTransformer': 'gumbel-softmax', 'git_commit_hash': '61852c1aeb3f58d8f2dbb925a42ce9e530b9cdef', 'minTemp': '1.1', 'beta': '1.0', 'dataset': 'cifar-10', 'model': 'resnet18', 'batch_size': '128', 'epochs': '10', 'method': 'our', 'optimizer': 'Adam (\\nParameter Group 0\\n    amsgrad: False\\n    betas: (0.9, 0.999)\\n    capturable: False\\n    differentiable: False\\n    eps: 1e-08\\n    foreach: None\\n    fused: None\\n    lr: 0.0001\\n    maximize: False\\n    weight_decay: 0.0005\\n)'}\n",
      "Retrained: {'MIA': '0.35 ± 0.01', 'acc_forget': '0.0 ± 0.0', 'acc_retain': '0.99 ± 0.0', 't': '2.68 ± 0.35', 'l2': '32.85 ± 0.85'}\n",
      "Unlearned: {'MIA': '0.19 ± 0.26', 'acc_forget': '0.0 ± 0.0 (0.0 ± 0.0)', 'acc_retain': '0.97 ± 0.0 (0.01 ± 0.0)', 't': '0.26 ± 0.0', 'l2': '5.99 ± 0.06', 've': '32.97 ± 0.86'}\n"
     ]
    }
   ],
   "source": [
    "retrained_metrics1, retrained_params1 = get_metrics_and_params(\"16f0a4c834614b5a92c9d7e29fa9c9e1\")\n",
    "retrained_metrics2, retrained_params2 = get_metrics_and_params(\"6eeb9fe80346484abe64144c248fcff7\")\n",
    "retrained_metrics3, retrained_params3 = get_metrics_and_params(\"b0cd7a957388400eb9d46aaeb3091ab5\")\n",
    "\n",
    "unlearned_metrics1, unlearned_params1 = get_metrics_and_params(\"a4e36a7079b54c9ca4e7c419c973fde8\")\n",
    "unlearned_metrics2, unlearned_params2 = get_metrics_and_params(\"04ea8a2ebf9344e4b3038b27bf3e2c7e\")\n",
    "unlearned_metrics3, unlearned_params3 = get_metrics_and_params(\"21a7c759854f4fc99cd14a0573b0abf1\")\n",
    "\n",
    "# Hyper-parameters of unlearned models\n",
    "print(unlearned_params1, unlearned_params2, unlearned_params3)\n",
    "\n",
    "cat_resnet_retrained_metrics, cat_resnet_unlearned_metrics = get_metrics_overview(retrained_metrics1, retrained_metrics2, retrained_metrics3, unlearned_metrics1, unlearned_metrics2, unlearned_metrics3, percentage=True)\n",
    "print(f\"Retrained: {cat_resnet_retrained_metrics}\")\n",
    "print(f\"Unlearned: {cat_resnet_unlearned_metrics}\")"
   ]
  },
  {
   "cell_type": "markdown",
   "metadata": {},
   "source": [
    "## Horse - CIFAR-10 (ResNet18)"
   ]
  },
  {
   "cell_type": "code",
   "execution_count": 25,
   "metadata": {},
   "outputs": [
    {
     "name": "stdout",
     "output_type": "stream",
     "text": [
      "{'batch_size': '128', 'lr': '0.0001', 'wd': '0.0005', 'optimizer': 'Adam (\\nParameter Group 0\\n    amsgrad: False\\n    betas: (0.9, 0.999)\\n    capturable: False\\n    differentiable: False\\n    eps: 1e-08\\n    foreach: None\\n    fused: None\\n    lr: 0.0001\\n    maximize: False\\n    weight_decay: 0.0005\\n)', 'reference_run_name': 'retrained', 'reference_run_id': '4e22f8ddea6c4251aee1d6560aa0da03', 'seed': '3407', 'beta': '1.0', 'cudnn': 'slow', 'dataset': 'cifar-10', 'model': 'resnet18', 'branch_name': 'annealing', 'Dr_subset_size': '0.3', 'datetime': '09-10-15-05', 'epochs': '10', 'method': 'our', 'git_commit_hash': '61852c1aeb3f58d8f2dbb925a42ce9e530b9cdef', 'tempScheduler': 'exponential', 'minTemp': '1.1', 'maxTemp': '512.0', 'probTransformer': 'gumbel-softmax'} {'datetime': '09-10-15-03', 'probTransformer': 'gumbel-softmax', 'dataset': 'cifar-10', 'model': 'resnet18', 'batch_size': '128', 'epochs': '10', 'method': 'our', 'branch_name': 'annealing', 'Dr_subset_size': '0.3', 'wd': '0.0005', 'tempScheduler': 'exponential', 'minTemp': '1.1', 'git_commit_hash': '61852c1aeb3f58d8f2dbb925a42ce9e530b9cdef', 'lr': '0.0001', 'optimizer': 'Adam (\\nParameter Group 0\\n    amsgrad: False\\n    betas: (0.9, 0.999)\\n    capturable: False\\n    differentiable: False\\n    eps: 1e-08\\n    foreach: None\\n    fused: None\\n    lr: 0.0001\\n    maximize: False\\n    weight_decay: 0.0005\\n)', 'maxTemp': '512.0', 'beta': '1.0', 'reference_run_name': 'retrained', 'reference_run_id': '44b706e806ba49fb8b22dcbe10fc28da', 'seed': '13', 'cudnn': 'slow'} {'cudnn': 'slow', 'model': 'resnet18', 'epochs': '10', 'git_commit_hash': '61852c1aeb3f58d8f2dbb925a42ce9e530b9cdef', 'datetime': '09-10-15-02', 'reference_run_name': 'retrained', 'dataset': 'cifar-10', 'batch_size': '128', 'method': 'our', 'branch_name': 'annealing', 'maxTemp': '512.0', 'probTransformer': 'gumbel-softmax', 'beta': '1.0', 'reference_run_id': '7935e8838b2240e4a0df1ee2b43ea5d7', 'seed': '12', 'Dr_subset_size': '0.3', 'lr': '0.0001', 'wd': '0.0005', 'optimizer': 'Adam (\\nParameter Group 0\\n    amsgrad: False\\n    betas: (0.9, 0.999)\\n    capturable: False\\n    differentiable: False\\n    eps: 1e-08\\n    foreach: None\\n    fused: None\\n    lr: 0.0001\\n    maximize: False\\n    weight_decay: 0.0005\\n)', 'tempScheduler': 'exponential', 'minTemp': '1.1'}\n",
      "Retrained: {'MIA': '0.34 ± 0.0', 'acc_forget': '0.0 ± 0.0', 'acc_retain': '0.98 ± 0.02', 't': '2.62 ± 0.58', 'l2': '34.16 ± 1.3'}\n",
      "Unlearned: {'MIA': '0.25 ± 0.06', 'acc_forget': '0.0 ± 0.0 (0.0 ± 0.0)', 'acc_retain': '0.97 ± 0.0 (0.01 ± 0.0)', 't': '0.26 ± 0.0', 'l2': '5.89 ± 0.11', 've': '34.32 ± 1.32'}\n"
     ]
    }
   ],
   "source": [
    "retrained_metrics1, retrained_params1 = get_metrics_and_params(\"4e22f8ddea6c4251aee1d6560aa0da03\")\n",
    "retrained_metrics2, retrained_params2 = get_metrics_and_params(\"44b706e806ba49fb8b22dcbe10fc28da\")\n",
    "retrained_metrics3, retrained_params3 = get_metrics_and_params(\"7935e8838b2240e4a0df1ee2b43ea5d7\")\n",
    "\n",
    "unlearned_metrics1, unlearned_params1 = get_metrics_and_params(\"81341e5d9e3c4c169c8fb3222cb59d32\")\n",
    "unlearned_metrics2, unlearned_params2 = get_metrics_and_params(\"9ca13ccea54747a1bca1090edb73ce1f\")\n",
    "unlearned_metrics3, unlearned_params3 = get_metrics_and_params(\"057b30bbc4dc4816a587d5568104bedc\")\n",
    "\n",
    "# Hyper-parameters of unlearned models\n",
    "print(unlearned_params1, unlearned_params2, unlearned_params3)\n",
    "\n",
    "horse_resnet_retrained_metrics, horse_resnet_unlearned_metrics = get_metrics_overview(retrained_metrics1, retrained_metrics2, retrained_metrics3, unlearned_metrics1, unlearned_metrics2, unlearned_metrics3, percentage=True)\n",
    "print(f\"Retrained: {horse_resnet_retrained_metrics}\")\n",
    "print(f\"Unlearned: {horse_resnet_unlearned_metrics}\")"
   ]
  },
  {
   "cell_type": "markdown",
   "metadata": {},
   "source": [
    "## Rocket - CIFAR-100 (ResNet18)"
   ]
  },
  {
   "cell_type": "code",
   "execution_count": 26,
   "metadata": {},
   "outputs": [
    {
     "name": "stdout",
     "output_type": "stream",
     "text": [
      "{'datetime': '09-10-16-13', 'reference_run_name': 'retrained', 'reference_run_id': '03cf6734315b42b98721b1a5c36ae340', 'seed': '3407', 'epochs': '10', 'method': 'our', 'Dr_subset_size': '0.3', 'lr': '0.0001', 'cudnn': 'slow', 'dataset': 'cifar-100', 'model': 'resnet18', 'batch_size': '128', 'git_commit_hash': '61852c1aeb3f58d8f2dbb925a42ce9e530b9cdef', 'branch_name': 'annealing', 'wd': '0.0005', 'optimizer': 'Adam (\\nParameter Group 0\\n    amsgrad: False\\n    betas: (0.9, 0.999)\\n    capturable: False\\n    differentiable: False\\n    eps: 1e-08\\n    foreach: None\\n    fused: None\\n    lr: 0.0001\\n    maximize: False\\n    weight_decay: 0.0005\\n)', 'tempScheduler': 'exponential', 'minTemp': '1.1', 'maxTemp': '8.0', 'probTransformer': 'gumbel-softmax', 'beta': '1.0'} {'seed': '13', 'git_commit_hash': '61852c1aeb3f58d8f2dbb925a42ce9e530b9cdef', 'reference_run_name': 'retrained', 'reference_run_id': '111fe46ef7e049319f26069c81ef86a6', 'dataset': 'cifar-100', 'model': 'resnet18', 'batch_size': '128', 'epochs': '10', 'method': 'our', 'tempScheduler': 'exponential', 'maxTemp': '8.0', 'beta': '1.0', 'datetime': '09-10-16-11', 'cudnn': 'slow', 'branch_name': 'annealing', 'Dr_subset_size': '0.3', 'lr': '0.0001', 'wd': '0.0005', 'optimizer': 'Adam (\\nParameter Group 0\\n    amsgrad: False\\n    betas: (0.9, 0.999)\\n    capturable: False\\n    differentiable: False\\n    eps: 1e-08\\n    foreach: None\\n    fused: None\\n    lr: 0.0001\\n    maximize: False\\n    weight_decay: 0.0005\\n)', 'minTemp': '1.1', 'probTransformer': 'gumbel-softmax'} {'cudnn': 'slow', 'dataset': 'cifar-100', 'model': 'resnet18', 'method': 'our', 'datetime': '09-10-16-09', 'epochs': '10', 'git_commit_hash': '61852c1aeb3f58d8f2dbb925a42ce9e530b9cdef', 'tempScheduler': 'exponential', 'probTransformer': 'gumbel-softmax', 'reference_run_name': 'retrained', 'branch_name': 'annealing', 'Dr_subset_size': '0.3', 'lr': '0.0001', 'wd': '0.0005', 'reference_run_id': '356aee9a2da34c82bb5e11fda8b6e137', 'seed': '12', 'batch_size': '128', 'optimizer': 'Adam (\\nParameter Group 0\\n    amsgrad: False\\n    betas: (0.9, 0.999)\\n    capturable: False\\n    differentiable: False\\n    eps: 1e-08\\n    foreach: None\\n    fused: None\\n    lr: 0.0001\\n    maximize: False\\n    weight_decay: 0.0005\\n)', 'minTemp': '1.1', 'maxTemp': '8.0', 'beta': '1.0'}\n",
      "Retrained: {'MIA': '0.18 ± 0.08', 'acc_forget': '0.0 ± 0.0', 'acc_retain': '0.94 ± 0.04', 't': '3.12 ± 2.21', 'l2': '67.46 ± 4.51'}\n",
      "Unlearned: {'MIA': '0.0 ± 0.0', 'acc_forget': '0.0 ± 0.0 (0.0 ± 0.0)', 'acc_retain': '0.91 ± 0.02 (0.05 ± 0.05)', 't': '0.22 ± 0.0', 'l2': '8.33 ± 0.01', 've': '66.85 ± 4.66'}\n"
     ]
    }
   ],
   "source": [
    "retrained_metrics1, retrained_params1 = get_metrics_and_params(\"9c94c3f3ced7489293b83afc9db646c2\")\n",
    "retrained_metrics2, retrained_params2 = get_metrics_and_params(\"111fe46ef7e049319f26069c81ef86a6\")\n",
    "retrained_metrics3, retrained_params3 = get_metrics_and_params(\"356aee9a2da34c82bb5e11fda8b6e137\")\n",
    "\n",
    "unlearned_metrics1, unlearned_params1 = get_metrics_and_params(\"67dbe9379fed40098c1ab66207751c45\")\n",
    "unlearned_metrics2, unlearned_params2 = get_metrics_and_params(\"66804d246f4247069519eefe60e8ec49\")\n",
    "unlearned_metrics3, unlearned_params3 = get_metrics_and_params(\"8123cc5ca8dc46dbb56bf687c1d8af3c\")\n",
    "\n",
    "# Hyper-parameters of unlearned models\n",
    "print(unlearned_params1, unlearned_params2, unlearned_params3)\n",
    "\n",
    "rocket_resnet_retrained_metrics, rocket_resnet_unlearned_metrics = get_metrics_overview(retrained_metrics1, retrained_metrics2, retrained_metrics3, unlearned_metrics1, unlearned_metrics2, unlearned_metrics3, percentage=True)\n",
    "print(f\"Retrained: {rocket_resnet_retrained_metrics}\")\n",
    "print(f\"Unlearned: {rocket_resnet_unlearned_metrics}\")"
   ]
  },
  {
   "cell_type": "markdown",
   "metadata": {},
   "source": [
    "## Beaver - CIFAR-100 (ResNet18)"
   ]
  },
  {
   "cell_type": "code",
   "execution_count": null,
   "metadata": {},
   "outputs": [],
   "source": []
  }
 ],
 "metadata": {
  "kernelspec": {
   "display_name": "MaUn",
   "language": "python",
   "name": "python3"
  },
  "language_info": {
   "codemirror_mode": {
    "name": "ipython",
    "version": 3
   },
   "file_extension": ".py",
   "mimetype": "text/x-python",
   "name": "python",
   "nbconvert_exporter": "python",
   "pygments_lexer": "ipython3",
   "version": "3.11.5"
  }
 },
 "nbformat": 4,
 "nbformat_minor": 2
}
