{
 "cells": [
  {
   "cell_type": "code",
   "execution_count": 1,
   "metadata": {},
   "outputs": [
    {
     "name": "stderr",
     "output_type": "stream",
     "text": [
      "/home/cspartalis/anaconda3/envs/MaUn/lib/python3.11/site-packages/tqdm/auto.py:21: TqdmWarning: IProgress not found. Please update jupyter and ipywidgets. See https://ipywidgets.readthedocs.io/en/stable/user_install.html\n",
      "  from .autonotebook import tqdm as notebook_tqdm\n"
     ]
    }
   ],
   "source": [
    "import sys\n",
    "\n",
    "import matplotlib.gridspec as gridspec\n",
    "import matplotlib.pyplot as plt\n",
    "import seaborn as sns\n",
    "import numpy as np\n",
    "import pandas as pd\n",
    "from PIL import Image\n",
    "\n",
    "sys.path.append(\"../src\")\n",
    "from data_utils import UnlearningDataLoader\n",
    "import subprocess\n",
    "import time\n",
    "import warnings\n",
    "from datetime import datetime\n",
    "\n",
    "import mlflow\n",
    "import torch\n",
    "import torch.nn as nn\n",
    "from torch.optim import SGD, Adam\n",
    "from torch.optim.lr_scheduler import LambdaLR\n",
    "\n",
    "from config import set_config\n",
    "from data_utils import UnlearningDataLoader\n",
    "from eval import (\n",
    "    compute_accuracy,\n",
    "    get_forgetting_rate,\n",
    "    get_js_div,\n",
    "    get_l2_params_distance,\n",
    "    mia,\n",
    ")\n",
    "from mlflow_utils import mlflow_tracking_uri\n",
    "from models import VGG19, AllCNN, ResNet18, ViT\n",
    "from seed import set_seed\n",
    "from sklearn.decomposition import PCA\n",
    "\n",
    "DEVICE = torch.device(\"cuda\" if torch.cuda.is_available() else \"cpu\")"
   ]
  },
  {
   "cell_type": "code",
   "execution_count": 2,
   "metadata": {},
   "outputs": [],
   "source": [
    "from torchvision import transforms\n",
    "from torch.utils.data import DataLoader"
   ]
  },
  {
   "cell_type": "code",
   "execution_count": 3,
   "metadata": {},
   "outputs": [],
   "source": [
    "def calculate_mean_std(loader):\n",
    "    mean = 0.0\n",
    "    for images, _ in loader:\n",
    "        batch_samples = images.size(\n",
    "            0\n",
    "        )  # batch size (the last batch can have smaller size!)\n",
    "        images = images.view(batch_samples, images.size(1), -1)\n",
    "        mean += images.mean(2).sum(0)\n",
    "    mean /= len(loader.dataset)\n",
    "\n",
    "    var = 0.0\n",
    "    for images, _ in loader:\n",
    "        batch_samples = images.size(0)\n",
    "        images = images.view(batch_samples, images.size(1), -1)\n",
    "        var += ((images - mean.unsqueeze(1)) ** 2).sum([0, 2])\n",
    "    std = torch.sqrt(var / (len(loader.dataset) * 224 * 224))\n",
    "\n",
    "    return mean, std"
   ]
  },
  {
   "cell_type": "code",
   "execution_count": 4,
   "metadata": {},
   "outputs": [],
   "source": [
    "# UDL = UnlearningDataLoader(\"tissuemnist\", 128)\n",
    "# dl, _ = UDL.load_data()"
   ]
  },
  {
   "cell_type": "code",
   "execution_count": 5,
   "metadata": {},
   "outputs": [],
   "source": [
    "# train_mean, train_std = calculate_mean_std(dl[\"train\"])\n",
    "# val_mean, val_std = calculate_mean_std(dl[\"val\"])\n",
    "# test_mean, test_std = calculate_mean_std(dl[\"test\"])"
   ]
  },
  {
   "cell_type": "code",
   "execution_count": 6,
   "metadata": {},
   "outputs": [],
   "source": [
    "# print(f\"train_mean: {round(train_mean.item(),4)}\")\n",
    "# print(f\"train_std: {round(train_std.item(),2)}\")\n",
    "# print(f\"val_mean: {round(val_mean.item(),2)}\")\n",
    "# print(f\"val_std: {round(val_std.item(),2)}\")\n",
    "# print(f\"test_mean: {round(test_mean.item(),2)}\")\n",
    "# print(f\"test_std: {round(test_std.item(),2)}\")"
   ]
  },
  {
   "cell_type": "code",
   "execution_count": 7,
   "metadata": {},
   "outputs": [],
   "source": [
    "UDL = UnlearningDataLoader(\"pneumoniamnist\", 128)\n",
    "dl, _ = UDL.load_data()"
   ]
  },
  {
   "cell_type": "code",
   "execution_count": 8,
   "metadata": {},
   "outputs": [],
   "source": [
    "train_mean, train_std = calculate_mean_std(dl[\"train\"])\n",
    "val_mean, val_std = calculate_mean_std(dl[\"val\"])\n",
    "test_mean, test_std = calculate_mean_std(dl[\"test\"])"
   ]
  },
  {
   "cell_type": "code",
   "execution_count": 9,
   "metadata": {},
   "outputs": [
    {
     "name": "stdout",
     "output_type": "stream",
     "text": [
      "train_mean: 0.5719\n",
      "train_std: 0.02\n",
      "val_mean: 0.57\n",
      "val_std: 0.02\n",
      "test_mean: 0.56\n",
      "test_std: 0.02\n"
     ]
    }
   ],
   "source": [
    "print(f\"train_mean: {round(train_mean.item(),4)}\")\n",
    "print(f\"train_std: {round(train_std.item(),2)}\")\n",
    "print(f\"val_mean: {round(val_mean.item(),2)}\")\n",
    "print(f\"val_std: {round(val_std.item(),2)}\")\n",
    "print(f\"test_mean: {round(test_mean.item(),2)}\")\n",
    "print(f\"test_std: {round(test_std.item(),2)}\")"
   ]
  },
  {
   "cell_type": "code",
   "execution_count": null,
   "metadata": {},
   "outputs": [],
   "source": []
  }
 ],
 "metadata": {
  "kernelspec": {
   "display_name": "MaUn",
   "language": "python",
   "name": "python3"
  },
  "language_info": {
   "codemirror_mode": {
    "name": "ipython",
    "version": 3
   },
   "file_extension": ".py",
   "mimetype": "text/x-python",
   "name": "python",
   "nbconvert_exporter": "python",
   "pygments_lexer": "ipython3",
   "version": "3.11.5"
  }
 },
 "nbformat": 4,
 "nbformat_minor": 2
}
