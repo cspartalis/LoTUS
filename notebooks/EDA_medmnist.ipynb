{
 "cells": [
  {
   "cell_type": "code",
   "execution_count": 8,
   "metadata": {},
   "outputs": [],
   "source": [
    "from medmnist import ChestMNIST\n",
    "import torch"
   ]
  },
  {
   "cell_type": "code",
   "execution_count": 3,
   "metadata": {},
   "outputs": [
    {
     "name": "stderr",
     "output_type": "stream",
     "text": [
      "/home/cspartalis/anaconda3/envs/MaUn/lib/python3.11/site-packages/tqdm/auto.py:21: TqdmWarning: IProgress not found. Please update jupyter and ipywidgets. See https://ipywidgets.readthedocs.io/en/stable/user_install.html\n",
      "  from .autonotebook import tqdm as notebook_tqdm\n"
     ]
    },
    {
     "name": "stdout",
     "output_type": "stream",
     "text": [
      "Using downloaded and verified file: /home/cspartalis/.medmnist/chestmnist.npz\n"
     ]
    }
   ],
   "source": [
    "dataset = ChestMNIST(split=\"train\" ,transform=None, download=True)"
   ]
  },
  {
   "cell_type": "code",
   "execution_count": 4,
   "metadata": {},
   "outputs": [
    {
     "data": {
      "text/plain": [
       "Dataset ChestMNIST (chestmnist)\n",
       "    Number of datapoints: 78468\n",
       "    Root location: /home/cspartalis/.medmnist\n",
       "    Split: train\n",
       "    Task: multi-label, binary-class\n",
       "    Number of channels: 1\n",
       "    Meaning of labels: {'0': 'atelectasis', '1': 'cardiomegaly', '2': 'effusion', '3': 'infiltration', '4': 'mass', '5': 'nodule', '6': 'pneumonia', '7': 'pneumothorax', '8': 'consolidation', '9': 'edema', '10': 'emphysema', '11': 'fibrosis', '12': 'pleural', '13': 'hernia'}\n",
       "    Number of samples: {'train': 78468, 'val': 11219, 'test': 22433}\n",
       "    Description: The ChestMNIST is based on the NIH-ChestXray14 dataset, a dataset comprising 112,120 frontal-view X-Ray images of 30,805 unique patients with the text-mined 14 disease labels, which could be formulized as a multi-label binary-class classification task. We use the official data split, and resize the source images of 1×1024×1024 into 1×28×28.\n",
       "    License: CC BY 4.0"
      ]
     },
     "execution_count": 4,
     "metadata": {},
     "output_type": "execute_result"
    }
   ],
   "source": [
    "dataset"
   ]
  },
  {
   "cell_type": "code",
   "execution_count": 13,
   "metadata": {},
   "outputs": [],
   "source": [
    "count_ones = torch.tensor([0,0,0,0,0,0,0,0,0,0,0,0,0,0])\n",
    "multi_class = 0\n",
    "control_set = 0\n",
    "for idx, (data, label) in enumerate(dataset):\n",
    "    labels_tensor = torch.tensor(label)\n",
    "    count_ones = torch.add(count_ones, labels_tensor)\n",
    "    if labels_tensor.sum() > 1:\n",
    "        multi_class += 1\n",
    "    elif labels_tensor.sum() == 0:\n",
    "        control_set += 1\n",
    "    \n"
   ]
  },
  {
   "cell_type": "code",
   "execution_count": 14,
   "metadata": {},
   "outputs": [
    {
     "data": {
      "text/plain": [
       "tensor([ 7996,  1950,  9261, 13914,  3988,  4375,   978,  3705,  3263,  1690,\n",
       "         1799,  1158,  2279,   144])"
      ]
     },
     "execution_count": 14,
     "metadata": {},
     "output_type": "execute_result"
    }
   ],
   "source": [
    "count_ones"
   ]
  },
  {
   "cell_type": "code",
   "execution_count": 15,
   "metadata": {},
   "outputs": [
    {
     "data": {
      "text/plain": [
       "14461"
      ]
     },
     "execution_count": 15,
     "metadata": {},
     "output_type": "execute_result"
    }
   ],
   "source": [
    "multi_class"
   ]
  },
  {
   "cell_type": "code",
   "execution_count": 16,
   "metadata": {},
   "outputs": [
    {
     "data": {
      "text/plain": [
       "42405"
      ]
     },
     "execution_count": 16,
     "metadata": {},
     "output_type": "execute_result"
    }
   ],
   "source": [
    "control_set"
   ]
  },
  {
   "cell_type": "code",
   "execution_count": 22,
   "metadata": {},
   "outputs": [
    {
     "name": "stdout",
     "output_type": "stream",
     "text": [
      "Using downloaded and verified file: /home/cspartalis/.medmnist/chestmnist.npz\n"
     ]
    }
   ],
   "source": [
    "chest_dataset_val = ChestMNIST(split=\"val\", transform=None, download=True)\n",
    "count_ones = torch.tensor([0, 0, 0, 0, 0, 0, 0, 0, 0, 0, 0, 0, 0, 0])\n",
    "multi_class = 0\n",
    "control_set = 0\n",
    "for idx, (data, label) in enumerate(chest_dataset_val):\n",
    "    labels_tensor = torch.tensor(label)\n",
    "    count_ones = torch.add(count_ones, labels_tensor)\n",
    "    if labels_tensor.sum() > 1:\n",
    "        multi_class += 1\n",
    "    elif labels_tensor.sum() == 0:\n",
    "        control_set += 1"
   ]
  },
  {
   "cell_type": "code",
   "execution_count": 23,
   "metadata": {},
   "outputs": [
    {
     "name": "stdout",
     "output_type": "stream",
     "text": [
      "count_ones: tensor([1119,  240, 1292, 2018,  625,  613,  133,  504,  447,  200,  208,  166,\n",
      "         372,   41])\n",
      "multi_class: 2028\n",
      "control_set: 6079\n"
     ]
    }
   ],
   "source": [
    "print(f\"count_ones: {count_ones}\")\n",
    "print(f\"multi_class: {multi_class}\")\n",
    "print(f\"control_set: {control_set}\")"
   ]
  },
  {
   "cell_type": "code",
   "execution_count": 17,
   "metadata": {},
   "outputs": [],
   "source": [
    "from medmnist import PneumoniaMNIST"
   ]
  },
  {
   "cell_type": "code",
   "execution_count": 18,
   "metadata": {},
   "outputs": [
    {
     "name": "stdout",
     "output_type": "stream",
     "text": [
      "Downloading https://zenodo.org/records/10519195/files/pneumoniamnist.npz?download=1 to /home/cspartalis/.medmnist/pneumoniamnist.npz\n"
     ]
    },
    {
     "name": "stderr",
     "output_type": "stream",
     "text": [
      "100%|██████████| 4170669/4170669 [00:01<00:00, 3022057.11it/s]\n"
     ]
    }
   ],
   "source": [
    "pneumonia_dataset = PneumoniaMNIST(split=\"train\" ,transform=None, download=True)"
   ]
  },
  {
   "cell_type": "code",
   "execution_count": 19,
   "metadata": {},
   "outputs": [
    {
     "data": {
      "text/plain": [
       "Dataset PneumoniaMNIST (pneumoniamnist)\n",
       "    Number of datapoints: 4708\n",
       "    Root location: /home/cspartalis/.medmnist\n",
       "    Split: train\n",
       "    Task: binary-class\n",
       "    Number of channels: 1\n",
       "    Meaning of labels: {'0': 'normal', '1': 'pneumonia'}\n",
       "    Number of samples: {'train': 4708, 'val': 524, 'test': 624}\n",
       "    Description: The PneumoniaMNIST is based on a prior dataset of 5,856 pediatric chest X-Ray images. The task is binary-class classification of pneumonia against normal. We split the source training set with a ratio of 9:1 into training and validation set and use its source validation set as the test set. The source images are gray-scale, and their sizes are (384−2,916)×(127−2,713). We center-crop the images and resize them into 1×28×28.\n",
       "    License: CC BY 4.0"
      ]
     },
     "execution_count": 19,
     "metadata": {},
     "output_type": "execute_result"
    }
   ],
   "source": [
    "pneumonia_dataset"
   ]
  },
  {
   "cell_type": "code",
   "execution_count": 20,
   "metadata": {},
   "outputs": [],
   "source": [
    "normal = 0\n",
    "pneumonia = 0\n",
    "for idx, (data, label) in enumerate(pneumonia_dataset):\n",
    "    if label == 0:\n",
    "        normal += 1\n",
    "    elif label == 1:\n",
    "        pneumonia += 1"
   ]
  },
  {
   "cell_type": "code",
   "execution_count": 21,
   "metadata": {},
   "outputs": [
    {
     "name": "stdout",
     "output_type": "stream",
     "text": [
      "normal: 1214, pneumonia: 3494\n"
     ]
    }
   ],
   "source": [
    "print(f\"normal: {normal}, pneumonia: {pneumonia}\")"
   ]
  },
  {
   "cell_type": "code",
   "execution_count": null,
   "metadata": {},
   "outputs": [],
   "source": []
  }
 ],
 "metadata": {
  "kernelspec": {
   "display_name": "MaUn",
   "language": "python",
   "name": "python3"
  },
  "language_info": {
   "codemirror_mode": {
    "name": "ipython",
    "version": 3
   },
   "file_extension": ".py",
   "mimetype": "text/x-python",
   "name": "python",
   "nbconvert_exporter": "python",
   "pygments_lexer": "ipython3",
   "version": "3.11.5"
  }
 },
 "nbformat": 4,
 "nbformat_minor": 2
}
