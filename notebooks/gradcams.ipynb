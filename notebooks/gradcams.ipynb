{
 "cells": [
  {
   "cell_type": "code",
   "execution_count": null,
   "metadata": {},
   "outputs": [],
   "source": [
    "import sys\n",
    "sys.path.append(\"../src/\")\n",
    "\n",
    "import numpy as np\n",
    "import seaborn as sns\n",
    "import torch\n",
    "from matplotlib import pyplot as plt\n",
    "from tqdm.notebook import tqdm\n",
    "import cv2\n",
    "from captum.attr import LayerGradCam\n",
    "\n",
    "\n",
    "from helpers.data_utils import UnlearningDataLoader\n",
    "\n",
    "DEVICE = torch.device(\"cuda\" if torch.cuda.is_available() else \"cpu\")\n",
    "\n",
    "DATASET = \"cifar-100\"\n",
    "UDL = UnlearningDataLoader(\n",
    "    dataset=\"cifar-100\",\n",
    "    batch_size=1,\n",
    "    image_size=32,\n",
    "    seed=3407,\n",
    "    is_vit=False,\n",
    "    is_class_unlearning=False,\n",
    "    class_to_forget=None,\n",
    ")\n",
    "dl, _ = UDL.load_data()\n",
    "num_classes = len(UDL.classes)\n",
    "input_channels = UDL.input_channels\n"
   ]
  },
  {
   "cell_type": "code",
   "execution_count": null,
   "metadata": {},
   "outputs": [
    {
     "ename": "AxisError",
     "evalue": "axis 2 is out of bounds for array of dimension 2",
     "output_type": "error",
     "traceback": [
      "\u001b[0;31m---------------------------------------------------------------------------\u001b[0m",
      "\u001b[0;31mAxisError\u001b[0m                                 Traceback (most recent call last)",
      "Cell \u001b[0;32mIn[7], line 58\u001b[0m\n\u001b[1;32m     53\u001b[0m image_np \u001b[38;5;241m=\u001b[39m (image_np \u001b[38;5;241m-\u001b[39m image_np\u001b[38;5;241m.\u001b[39mmin()) \u001b[38;5;241m/\u001b[39m (\n\u001b[1;32m     54\u001b[0m     image_np\u001b[38;5;241m.\u001b[39mmax() \u001b[38;5;241m-\u001b[39m image_np\u001b[38;5;241m.\u001b[39mmin() \u001b[38;5;241m+\u001b[39m \u001b[38;5;241m1e-5\u001b[39m\n\u001b[1;32m     55\u001b[0m )  \u001b[38;5;66;03m# Add epsilon to avoid division by zero\u001b[39;00m\n\u001b[1;32m     57\u001b[0m \u001b[38;5;66;03m# Generate heatmaps using visualization utilities\u001b[39;00m\n\u001b[0;32m---> 58\u001b[0m heatmap_original \u001b[38;5;241m=\u001b[39m \u001b[43mviz\u001b[49m\u001b[38;5;241;43m.\u001b[39;49m\u001b[43mvisualize_image_attr\u001b[49m\u001b[43m(\u001b[49m\n\u001b[1;32m     59\u001b[0m \u001b[43m    \u001b[49m\u001b[43mgrayscale_cam_original\u001b[49m\u001b[43m,\u001b[49m\n\u001b[1;32m     60\u001b[0m \u001b[43m    \u001b[49m\u001b[43mimage_np\u001b[49m\u001b[43m,\u001b[49m\n\u001b[1;32m     61\u001b[0m \u001b[43m    \u001b[49m\u001b[43mmethod\u001b[49m\u001b[38;5;241;43m=\u001b[39;49m\u001b[38;5;124;43m\"\u001b[39;49m\u001b[38;5;124;43mblended_heat_map\u001b[39;49m\u001b[38;5;124;43m\"\u001b[39;49m\u001b[43m,\u001b[49m\n\u001b[1;32m     62\u001b[0m \u001b[43m    \u001b[49m\u001b[43msign\u001b[49m\u001b[38;5;241;43m=\u001b[39;49m\u001b[38;5;124;43m\"\u001b[39;49m\u001b[38;5;124;43mall\u001b[39;49m\u001b[38;5;124;43m\"\u001b[39;49m\u001b[43m,\u001b[49m\n\u001b[1;32m     63\u001b[0m \u001b[43m    \u001b[49m\u001b[43mshow_colorbar\u001b[49m\u001b[38;5;241;43m=\u001b[39;49m\u001b[38;5;28;43;01mFalse\u001b[39;49;00m\u001b[43m,\u001b[49m\n\u001b[1;32m     64\u001b[0m \u001b[43m    \u001b[49m\u001b[43mtitle\u001b[49m\u001b[38;5;241;43m=\u001b[39;49m\u001b[38;5;124;43m\"\u001b[39;49m\u001b[38;5;124;43mOriginal\u001b[39;49m\u001b[38;5;124;43m\"\u001b[39;49m\u001b[43m,\u001b[49m\n\u001b[1;32m     65\u001b[0m \u001b[43m\u001b[49m\u001b[43m)\u001b[49m[\n\u001b[1;32m     66\u001b[0m     \u001b[38;5;241m0\u001b[39m\n\u001b[1;32m     67\u001b[0m ]  \u001b[38;5;66;03m# Extract the heatmap if a tuple is returned\u001b[39;00m\n\u001b[1;32m     68\u001b[0m heatmap_gold \u001b[38;5;241m=\u001b[39m viz\u001b[38;5;241m.\u001b[39mvisualize_image_attr(\n\u001b[1;32m     69\u001b[0m     grayscale_cam_gold,\n\u001b[1;32m     70\u001b[0m     image_np,\n\u001b[0;32m   (...)\u001b[0m\n\u001b[1;32m     74\u001b[0m     title\u001b[38;5;241m=\u001b[39m\u001b[38;5;124m\"\u001b[39m\u001b[38;5;124mGold Std\u001b[39m\u001b[38;5;124m\"\u001b[39m,\n\u001b[1;32m     75\u001b[0m )[\u001b[38;5;241m0\u001b[39m]\n\u001b[1;32m     76\u001b[0m heatmap_lotus \u001b[38;5;241m=\u001b[39m viz\u001b[38;5;241m.\u001b[39mvisualize_image_attr(\n\u001b[1;32m     77\u001b[0m     grayscale_cam_lotus,\n\u001b[1;32m     78\u001b[0m     image_np,\n\u001b[0;32m   (...)\u001b[0m\n\u001b[1;32m     82\u001b[0m     title\u001b[38;5;241m=\u001b[39m\u001b[38;5;124m\"\u001b[39m\u001b[38;5;124mLoTUS\u001b[39m\u001b[38;5;124m\"\u001b[39m,\n\u001b[1;32m     83\u001b[0m )[\u001b[38;5;241m0\u001b[39m]\n",
      "File \u001b[0;32m~/anaconda3/envs/MaUn/lib/python3.11/site-packages/captum/attr/_utils/visualization.py:263\u001b[0m, in \u001b[0;36mvisualize_image_attr\u001b[0;34m(attr, original_image, method, sign, plt_fig_axis, outlier_perc, cmap, alpha_overlay, show_colorbar, title, fig_size, use_pyplot)\u001b[0m\n\u001b[1;32m    260\u001b[0m     plt_axis\u001b[38;5;241m.\u001b[39mimshow(original_image)\n\u001b[1;32m    261\u001b[0m \u001b[38;5;28;01melse\u001b[39;00m:\n\u001b[1;32m    262\u001b[0m     \u001b[38;5;66;03m# Choose appropriate signed attributions and normalize.\u001b[39;00m\n\u001b[0;32m--> 263\u001b[0m     norm_attr \u001b[38;5;241m=\u001b[39m \u001b[43m_normalize_attr\u001b[49m\u001b[43m(\u001b[49m\u001b[43mattr\u001b[49m\u001b[43m,\u001b[49m\u001b[43m \u001b[49m\u001b[43msign\u001b[49m\u001b[43m,\u001b[49m\u001b[43m \u001b[49m\u001b[43moutlier_perc\u001b[49m\u001b[43m,\u001b[49m\u001b[43m \u001b[49m\u001b[43mreduction_axis\u001b[49m\u001b[38;5;241;43m=\u001b[39;49m\u001b[38;5;241;43m2\u001b[39;49m\u001b[43m)\u001b[49m\n\u001b[1;32m    265\u001b[0m     \u001b[38;5;66;03m# Set default colormap and bounds based on sign.\u001b[39;00m\n\u001b[1;32m    266\u001b[0m     \u001b[38;5;28;01mif\u001b[39;00m VisualizeSign[sign] \u001b[38;5;241m==\u001b[39m VisualizeSign\u001b[38;5;241m.\u001b[39mall:\n",
      "File \u001b[0;32m~/anaconda3/envs/MaUn/lib/python3.11/site-packages/captum/attr/_utils/visualization.py:79\u001b[0m, in \u001b[0;36m_normalize_attr\u001b[0;34m(attr, sign, outlier_perc, reduction_axis)\u001b[0m\n\u001b[1;32m     77\u001b[0m attr_combined \u001b[38;5;241m=\u001b[39m attr\n\u001b[1;32m     78\u001b[0m \u001b[38;5;28;01mif\u001b[39;00m reduction_axis \u001b[38;5;129;01mis\u001b[39;00m \u001b[38;5;129;01mnot\u001b[39;00m \u001b[38;5;28;01mNone\u001b[39;00m:\n\u001b[0;32m---> 79\u001b[0m     attr_combined \u001b[38;5;241m=\u001b[39m \u001b[43mnp\u001b[49m\u001b[38;5;241;43m.\u001b[39;49m\u001b[43msum\u001b[49m\u001b[43m(\u001b[49m\u001b[43mattr\u001b[49m\u001b[43m,\u001b[49m\u001b[43m \u001b[49m\u001b[43maxis\u001b[49m\u001b[38;5;241;43m=\u001b[39;49m\u001b[43mreduction_axis\u001b[49m\u001b[43m)\u001b[49m\n\u001b[1;32m     81\u001b[0m \u001b[38;5;66;03m# Choose appropriate signed values and rescale, removing given outlier percentage.\u001b[39;00m\n\u001b[1;32m     82\u001b[0m \u001b[38;5;28;01mif\u001b[39;00m VisualizeSign[sign] \u001b[38;5;241m==\u001b[39m VisualizeSign\u001b[38;5;241m.\u001b[39mall:\n",
      "File \u001b[0;32m~/anaconda3/envs/MaUn/lib/python3.11/site-packages/numpy/core/fromnumeric.py:2313\u001b[0m, in \u001b[0;36msum\u001b[0;34m(a, axis, dtype, out, keepdims, initial, where)\u001b[0m\n\u001b[1;32m   2310\u001b[0m         \u001b[38;5;28;01mreturn\u001b[39;00m out\n\u001b[1;32m   2311\u001b[0m     \u001b[38;5;28;01mreturn\u001b[39;00m res\n\u001b[0;32m-> 2313\u001b[0m \u001b[38;5;28;01mreturn\u001b[39;00m \u001b[43m_wrapreduction\u001b[49m\u001b[43m(\u001b[49m\u001b[43ma\u001b[49m\u001b[43m,\u001b[49m\u001b[43m \u001b[49m\u001b[43mnp\u001b[49m\u001b[38;5;241;43m.\u001b[39;49m\u001b[43madd\u001b[49m\u001b[43m,\u001b[49m\u001b[43m \u001b[49m\u001b[38;5;124;43m'\u001b[39;49m\u001b[38;5;124;43msum\u001b[39;49m\u001b[38;5;124;43m'\u001b[39;49m\u001b[43m,\u001b[49m\u001b[43m \u001b[49m\u001b[43maxis\u001b[49m\u001b[43m,\u001b[49m\u001b[43m \u001b[49m\u001b[43mdtype\u001b[49m\u001b[43m,\u001b[49m\u001b[43m \u001b[49m\u001b[43mout\u001b[49m\u001b[43m,\u001b[49m\u001b[43m \u001b[49m\u001b[43mkeepdims\u001b[49m\u001b[38;5;241;43m=\u001b[39;49m\u001b[43mkeepdims\u001b[49m\u001b[43m,\u001b[49m\n\u001b[1;32m   2314\u001b[0m \u001b[43m                      \u001b[49m\u001b[43minitial\u001b[49m\u001b[38;5;241;43m=\u001b[39;49m\u001b[43minitial\u001b[49m\u001b[43m,\u001b[49m\u001b[43m \u001b[49m\u001b[43mwhere\u001b[49m\u001b[38;5;241;43m=\u001b[39;49m\u001b[43mwhere\u001b[49m\u001b[43m)\u001b[49m\n",
      "File \u001b[0;32m~/anaconda3/envs/MaUn/lib/python3.11/site-packages/numpy/core/fromnumeric.py:88\u001b[0m, in \u001b[0;36m_wrapreduction\u001b[0;34m(obj, ufunc, method, axis, dtype, out, **kwargs)\u001b[0m\n\u001b[1;32m     85\u001b[0m         \u001b[38;5;28;01melse\u001b[39;00m:\n\u001b[1;32m     86\u001b[0m             \u001b[38;5;28;01mreturn\u001b[39;00m reduction(axis\u001b[38;5;241m=\u001b[39maxis, out\u001b[38;5;241m=\u001b[39mout, \u001b[38;5;241m*\u001b[39m\u001b[38;5;241m*\u001b[39mpasskwargs)\n\u001b[0;32m---> 88\u001b[0m \u001b[38;5;28;01mreturn\u001b[39;00m \u001b[43mufunc\u001b[49m\u001b[38;5;241;43m.\u001b[39;49m\u001b[43mreduce\u001b[49m\u001b[43m(\u001b[49m\u001b[43mobj\u001b[49m\u001b[43m,\u001b[49m\u001b[43m \u001b[49m\u001b[43maxis\u001b[49m\u001b[43m,\u001b[49m\u001b[43m \u001b[49m\u001b[43mdtype\u001b[49m\u001b[43m,\u001b[49m\u001b[43m \u001b[49m\u001b[43mout\u001b[49m\u001b[43m,\u001b[49m\u001b[43m \u001b[49m\u001b[38;5;241;43m*\u001b[39;49m\u001b[38;5;241;43m*\u001b[39;49m\u001b[43mpasskwargs\u001b[49m\u001b[43m)\u001b[49m\n",
      "\u001b[0;31mAxisError\u001b[0m: axis 2 is out of bounds for array of dimension 2"
     ]
    },
    {
     "data": {
      "image/png": "[encoded data removed]",
      "text/plain": [
       "<Figure size 600x600 with 1 Axes>"
      ]
     },
     "metadata": {},
     "output_type": "display_data"
    }
   ],
   "source": [
    "# Load models\n",
    "original_model = torch.load(\"gradcams/models/original-cifar-100-3407.pth\")\n",
    "gold_model = torch.load(\"gradcams/models/gold-cifar-100-3407.pth\")\n",
    "lotus_model = torch.load(\"gradcams/models/lotus-cifar-100-3407.pth\")\n",
    "\n",
    "i = 0\n",
    "for image, label in dl[\"forget\"]:\n",
    "    image, label = image.to(DEVICE), label.to(DEVICE)\n",
    "    # Initialize GradCAM\n",
    "    gradcam_original = GradCAM( model=original_model, target_layers=[original_model.layer4[-1]])\n",
    "    gradcam_gold = GradCAM(model=gold_model, target_layers=[gold_model.layer4[-1]])\n",
    "    gradcam_lotus = GradCAM(model=lotus_model, target_layers=[lotus_model.layer4[-1]])\n",
    "\n",
    "    # Generate heatmaps\n",
    "    grayscale_cam_original = gradcam_original(input_tensor=image)[0]\n",
    "    grayscale_cam_gold = gradcam_gold(input_tensor=image)[0]\n",
    "    grayscale_cam_lotus = gradcam_lotus(input_tensor=image)[0]\n",
    "\n",
    "    # Convert grayscale CAM to RGB heatmap\n",
    "    image_np = image.cpu().numpy().squeeze().transpose(1, 2, 0)\n",
    "    image_np = (image_np - image_np.min()) / (\n",
    "        image_np.max() - image_np.min()\n",
    "    )  # Normalize to [0, 1]\n",
    "    heatmap_original = show_cam_on_image(\n",
    "        image_np.astype(np.float32),\n",
    "        grayscale_cam_original,\n",
    "        use_rgb=True,\n",
    "        image_weight=0.8,\n",
    "    )\n",
    "    heatmap_gold = show_cam_on_image(\n",
    "        image_np.astype(np.float32), grayscale_cam_gold, use_rgb=True, image_weight=0.7\n",
    "    )\n",
    "    heatmap_lotus = show_cam_on_image(\n",
    "        image_np.astype(np.float32), grayscale_cam_lotus, use_rgb=True, image_weight=0.7\n",
    "    )\n",
    "\n",
    "    # Display heatmaps\n",
    "    plt.figure(figsize=(4, 3.5))\n",
    "    plt.subplot(1, 3, 1)\n",
    "    plt.title(\"Original\", fontname=\"Times New Roman\", fontsize=12)\n",
    "    plt.imshow(heatmap_original, interpolation=\"bilinear\")\n",
    "    plt.xticks([])\n",
    "    plt.yticks([])\n",
    "    plt.subplot(1, 3, 2)\n",
    "    plt.title(\"Gold Std\", fontname=\"Times New Roman\", fontsize=12)\n",
    "    plt.imshow(heatmap_gold, interpolation=\"bilinear\")\n",
    "    plt.xticks([])\n",
    "    plt.yticks([])\n",
    "    plt.subplot(1, 3, 3)\n",
    "    plt.title(\"LoTUS\", fontname=\"Times New Roman\", fontsize=12)\n",
    "    plt.imshow(heatmap_lotus, interpolation=\"bilinear\")\n",
    "    plt.xticks([])\n",
    "    plt.yticks([])\n",
    "    plt.savefig(f\"gradcams/plots/cifar-100/{i}.png\", dpi=300)\n",
    "    i += 1\n",
    "    # plt.show()\n",
    "    # break"
   ]
  },
  {
   "cell_type": "code",
   "execution_count": null,
   "metadata": {},
   "outputs": [],
   "source": []
  },
  {
   "cell_type": "code",
   "execution_count": null,
   "metadata": {},
   "outputs": [],
   "source": []
  }
 ],
 "metadata": {
  "kernelspec": {
   "display_name": "MaUn",
   "language": "python",
   "name": "python3"
  },
  "language_info": {
   "codemirror_mode": {
    "name": "ipython",
    "version": 3
   },
   "file_extension": ".py",
   "mimetype": "text/x-python",
   "name": "python",
   "nbconvert_exporter": "python",
   "pygments_lexer": "ipython3",
   "version": "3.11.5"
  }
 },
 "nbformat": 4,
 "nbformat_minor": 2
}
