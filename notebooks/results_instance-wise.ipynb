{
 "cells": [
  {
   "cell_type": "code",
   "execution_count": 4,
   "metadata": {},
   "outputs": [],
   "source": [
    "import pickle\n",
    "\n",
    "def save_to_file(obj, filename):\n",
    "    with open(f'pkl_files/{filename}', 'wb') as f:\n",
    "        pickle.dump(obj, f)\n",
    "\n",
    "def load_from_file(filename):\n",
    "    with open(f'pkl_files/{filename}', 'rb') as f:\n",
    "        return pickle.load(f)"
   ]
  },
  {
   "cell_type": "markdown",
   "metadata": {},
   "source": [
    "# CIFAR-10"
   ]
  },
  {
   "cell_type": "code",
   "execution_count": 5,
   "metadata": {},
   "outputs": [
    {
     "name": "stdout",
     "output_type": "stream",
     "text": [
      "\n",
      "\tour - resnet18-cifar-10-3407-retrained\n"
     ]
    },
    {
     "name": "stderr",
     "output_type": "stream",
     "text": [
      "100%|██████████| 10/10 [00:15<00:00,  1.54s/it]\n"
     ]
    },
    {
     "name": "stdout",
     "output_type": "stream",
     "text": [
      "\n",
      "\tour - resnet18-cifar-10-13-retrained\n"
     ]
    },
    {
     "name": "stderr",
     "output_type": "stream",
     "text": [
      "100%|██████████| 10/10 [00:15<00:00,  1.53s/it]\n"
     ]
    },
    {
     "name": "stdout",
     "output_type": "stream",
     "text": [
      "\n",
      "\tour - resnet18-cifar-10-12-retrained\n"
     ]
    },
    {
     "name": "stderr",
     "output_type": "stream",
     "text": [
      "100%|██████████| 10/10 [00:15<00:00,  1.53s/it]\n"
     ]
    }
   ],
   "source": [
    "results = {}\n",
    "for seed in [3407, 13, 12]:\n",
    "    %run  ../src/unlearn.py --epochs 10 --registered_model resnet18-cifar-10-{seed}-retrained --method our --lr 1e-4 --weight_decay 5e-4 --seed {seed} --maxT 32\n",
    "    results[seed] = results_dict \n",
    "save_to_file(results, 'resnet18-cifar-10.pkl')"
   ]
  },
  {
   "cell_type": "code",
   "execution_count": 6,
   "metadata": {},
   "outputs": [
    {
     "data": {
      "text/plain": [
       "{3407: {'mia_prob': 0.0,\n",
       "  'acc_forget': 0.93,\n",
       "  'acc_retain': 0.98,\n",
       "  'run_time': 0.2564297159512837,\n",
       "  'l2': 6.89,\n",
       "  've': 36.31},\n",
       " 13: {'mia_prob': 1.0,\n",
       "  'acc_forget': 0.91,\n",
       "  'acc_retain': 0.98,\n",
       "  'run_time': 0.2553437113761902,\n",
       "  'l2': 7.0,\n",
       "  've': 32.36},\n",
       " 12: {'mia_prob': 0.61,\n",
       "  'acc_forget': 0.92,\n",
       "  'acc_retain': 0.97,\n",
       "  'run_time': 0.25540933609008787,\n",
       "  'l2': 6.87,\n",
       "  've': 32.29}}"
      ]
     },
     "execution_count": 6,
     "metadata": {},
     "output_type": "execute_result"
    }
   ],
   "source": [
    "results"
   ]
  }
 ],
 "metadata": {
  "kernelspec": {
   "display_name": "MaUn",
   "language": "python",
   "name": "python3"
  },
  "language_info": {
   "codemirror_mode": {
    "name": "ipython",
    "version": 3
   },
   "file_extension": ".py",
   "mimetype": "text/x-python",
   "name": "python",
   "nbconvert_exporter": "python",
   "pygments_lexer": "ipython3",
   "version": "3.11.5"
  }
 },
 "nbformat": 4,
 "nbformat_minor": 2
}
