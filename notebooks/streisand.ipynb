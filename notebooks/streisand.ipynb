{
 "cells": [
  {
   "cell_type": "markdown",
   "metadata": {},
   "source": [
    "# Ablation for Streisand Effect\n",
    "Like in Golatkar's paper: Eternal sunshine of the spotless net"
   ]
  },
  {
   "cell_type": "code",
   "execution_count": 4,
   "metadata": {},
   "outputs": [],
   "source": [
    "import sys\n",
    "\n",
    "sys.path.append(\"../src/\")\n",
    "import numpy as np\n",
    "import pandas as pd\n",
    "import seaborn as sns\n",
    "import torch\n",
    "import torch.nn.functional as F\n",
    "from matplotlib import pyplot as plt\n",
    "from tqdm.notebook import tqdm\n",
    "\n",
    "from helpers.data_utils import UnlearningDataLoader\n",
    "\n",
    "device = torch.device(\"cuda\" if torch.cuda.is_available() else \"cpu\")\n",
    "\n",
    "\n",
    "\n",
    "def entropy(p, dim=-1, keepdim=False):\n",
    "    entropy = -torch.where(p > 0, p * p.log(), p.new([0.0])).sum(\n",
    "        dim=dim, keepdim=keepdim\n",
    "    )\n",
    "    return entropy\n",
    "\n",
    "\n",
    "def collect_prob(data_loader, model):\n",
    "    all_probs = []\n",
    "    model.eval()\n",
    "    model.to(device)\n",
    "    with torch.no_grad():\n",
    "        for data, _ in tqdm(data_loader):\n",
    "            data = data.to(device)\n",
    "            output = model(data)\n",
    "            probs = F.softmax(output, dim=-1)\n",
    "            all_probs.append(probs) \n",
    "    return torch.cat(all_probs)\n",
    "\n",
    "\n",
    "UDL = UnlearningDataLoader(\n",
    "    dataset=\"cifar-100\",\n",
    "    batch_size=1,\n",
    "    image_size=32,\n",
    "    seed=13,\n",
    "    is_vit=False,\n",
    "    is_class_unlearning=False,\n",
    "    class_to_forget=None,\n",
    ")\n",
    "dl, _ = UDL.load_data()\n",
    "num_classes = len(UDL.classes)\n",
    "input_channels = UDL.input_channels"
   ]
  },
  {
   "cell_type": "code",
   "execution_count": 5,
   "metadata": {},
   "outputs": [
    {
     "data": {
      "application/vnd.jupyter.widget-view+json": {
       "model_id": "56552681240a449e8c26a29bd4b988cf",
       "version_major": 2,
       "version_minor": 0
      },
      "text/plain": [
       "  0%|          | 0/45000 [00:00<?, ?it/s]"
      ]
     },
     "metadata": {},
     "output_type": "display_data"
    },
    {
     "data": {
      "application/vnd.jupyter.widget-view+json": {
       "model_id": "9ae3fb1111ba401c8f2d6988e118c0a9",
       "version_major": 2,
       "version_minor": 0
      },
      "text/plain": [
       "  0%|          | 0/5000 [00:00<?, ?it/s]"
      ]
     },
     "metadata": {},
     "output_type": "display_data"
    },
    {
     "data": {
      "application/vnd.jupyter.widget-view+json": {
       "model_id": "8288bd50a1f14032a3700b4668739adb",
       "version_major": 2,
       "version_minor": 0
      },
      "text/plain": [
       "  0%|          | 0/5000 [00:00<?, ?it/s]"
      ]
     },
     "metadata": {},
     "output_type": "display_data"
    },
    {
     "data": {
      "application/vnd.jupyter.widget-view+json": {
       "model_id": "2d1cabc70199456083de6bec9ca09f20",
       "version_major": 2,
       "version_minor": 0
      },
      "text/plain": [
       "  0%|          | 0/45000 [00:00<?, ?it/s]"
      ]
     },
     "metadata": {},
     "output_type": "display_data"
    },
    {
     "data": {
      "application/vnd.jupyter.widget-view+json": {
       "model_id": "9f193723fa7b4b398729c38c381fdc00",
       "version_major": 2,
       "version_minor": 0
      },
      "text/plain": [
       "  0%|          | 0/5000 [00:00<?, ?it/s]"
      ]
     },
     "metadata": {},
     "output_type": "display_data"
    },
    {
     "data": {
      "application/vnd.jupyter.widget-view+json": {
       "model_id": "20c1810c9d004ae1b5362142b1690e2f",
       "version_major": 2,
       "version_minor": 0
      },
      "text/plain": [
       "  0%|          | 0/5000 [00:00<?, ?it/s]"
      ]
     },
     "metadata": {},
     "output_type": "display_data"
    },
    {
     "data": {
      "application/vnd.jupyter.widget-view+json": {
       "model_id": "1b57885797674fed971c3abb8876063e",
       "version_major": 2,
       "version_minor": 0
      },
      "text/plain": [
       "  0%|          | 0/45000 [00:00<?, ?it/s]"
      ]
     },
     "metadata": {},
     "output_type": "display_data"
    },
    {
     "data": {
      "application/vnd.jupyter.widget-view+json": {
       "model_id": "7d689a3a936644178abc4a5b21fa6b9f",
       "version_major": 2,
       "version_minor": 0
      },
      "text/plain": [
       "  0%|          | 0/5000 [00:00<?, ?it/s]"
      ]
     },
     "metadata": {},
     "output_type": "display_data"
    },
    {
     "data": {
      "application/vnd.jupyter.widget-view+json": {
       "model_id": "7675c0c5888c470187253d383ba9fcec",
       "version_major": 2,
       "version_minor": 0
      },
      "text/plain": [
       "  0%|          | 0/5000 [00:00<?, ?it/s]"
      ]
     },
     "metadata": {},
     "output_type": "display_data"
    },
    {
     "data": {
      "application/vnd.jupyter.widget-view+json": {
       "model_id": "17cdf6ec83cf428b954827520d45e5f7",
       "version_major": 2,
       "version_minor": 0
      },
      "text/plain": [
       "  0%|          | 0/45000 [00:00<?, ?it/s]"
      ]
     },
     "metadata": {},
     "output_type": "display_data"
    },
    {
     "data": {
      "application/vnd.jupyter.widget-view+json": {
       "model_id": "6ac926b776de47e4a49664be9f567018",
       "version_major": 2,
       "version_minor": 0
      },
      "text/plain": [
       "  0%|          | 0/5000 [00:00<?, ?it/s]"
      ]
     },
     "metadata": {},
     "output_type": "display_data"
    },
    {
     "data": {
      "application/vnd.jupyter.widget-view+json": {
       "model_id": "6428dabe15b4452f8fd14f15a6e8b481",
       "version_major": 2,
       "version_minor": 0
      },
      "text/plain": [
       "  0%|          | 0/5000 [00:00<?, ?it/s]"
      ]
     },
     "metadata": {},
     "output_type": "display_data"
    }
   ],
   "source": [
    "original = torch.load('streisand/models/original.pth')\n",
    "original_retain = collect_prob(dl[\"retain\"], original)\n",
    "original_forget = collect_prob(dl[\"forget\"], original)\n",
    "original_test = collect_prob(dl[\"test\"], original)\n",
    "\n",
    "gold = torch.load('streisand/models/gold.pth')\n",
    "gold_retain = collect_prob(dl[\"retain\"], gold)\n",
    "gold_forget = collect_prob(dl[\"forget\"], gold)\n",
    "gold_test = collect_prob(dl[\"test\"], gold)\n",
    "\n",
    "relabel = torch.load('streisand/models/relabel.pth')\n",
    "relabel_retain = collect_prob(dl[\"retain\"], relabel)\n",
    "relabel_forget = collect_prob(dl[\"forget\"], relabel)\n",
    "relabel_test = collect_prob(dl[\"test\"], relabel)\n",
    "\n",
    "our = torch.load('streisand/models/our.pth')\n",
    "our_retain = collect_prob(dl[\"retain\"], our)\n",
    "our_forget = collect_prob(dl[\"forget\"], our)\n",
    "our_test = collect_prob(dl[\"test\"], our)"
   ]
  },
  {
   "cell_type": "code",
   "execution_count": 6,
   "metadata": {},
   "outputs": [],
   "source": [
    "original_retain = entropy(original_retain)\n",
    "original_forget = entropy(original_forget)\n",
    "original_test = entropy(original_test)\n",
    "# apply log\n",
    "original_retain = torch.log(original_retain).to('cpu')\n",
    "original_forget = torch.log(original_forget).to('cpu')\n",
    "original_test = torch.log(original_test).to('cpu')\n",
    "gold_retain = entropy(gold_retain)\n",
    "\n",
    "gold_forget = entropy(gold_forget)\n",
    "gold_test = entropy(gold_test)\n",
    "# apply log\n",
    "gold_retain = torch.log(gold_retain).to('cpu')\n",
    "gold_forget = torch.log(gold_forget).to('cpu')\n",
    "gold_test = torch.log(gold_test).to('cpu')\n",
    "\n",
    "relabel_retain = entropy(relabel_retain)\n",
    "relabel_forget = entropy(relabel_forget)\n",
    "relabel_test = entropy(relabel_test)\n",
    "# apply log\n",
    "relabel_retain = torch.log(relabel_retain).to(\"cpu\")\n",
    "relabel_forget = torch.log(relabel_forget).to(\"cpu\")\n",
    "relabel_test = torch.log(relabel_test).to(\"cpu\")\n",
    "\n",
    "our_retain = entropy(our_retain)\n",
    "our_forget = entropy(our_forget)\n",
    "our_test = entropy(our_test)\n",
    "# apply log\n",
    "our_retain = torch.log(our_retain).to('cpu')\n",
    "our_forget = torch.log(our_forget).to('cpu')\n",
    "our_test = torch.log(our_test).to('cpu')"
   ]
  },
  {
   "cell_type": "code",
   "execution_count": 18,
   "metadata": {},
   "outputs": [
    {
     "data": {
      "image/png": "[encoded data removed]",
      "text/plain": [
       "<Figure size 275x250 with 1 Axes>"
      ]
     },
     "metadata": {},
     "output_type": "display_data"
    }
   ],
   "source": [
    "plt.rcParams[\"font.family\"] = \"Times New Roman\" \n",
    "\n",
    "# Create a DataFrame combining the log entropy values and labels\n",
    "data_original = pd.DataFrame(\n",
    "    {\n",
    "        \"log_entropy\": np.concatenate(\n",
    "            [original_retain.to(\"cpu\"), original_forget.to(\"cpu\"), original_test.to(\"cpu\")]\n",
    "        ),\n",
    "        \"set\": [\"retain\"] * len(original_retain)\n",
    "        + [\"forget\"] * len(original_forget)\n",
    "        + [\"test\"] * len(original_test),\n",
    "    }\n",
    ")\n",
    "\n",
    "# Normalize each set separately\n",
    "data_original[\"log_entropy\"] = data_original.groupby(\"set\")[\"log_entropy\"].transform(\n",
    "    lambda x: (x - x.mean()) / x.std()\n",
    ")\n",
    "\n",
    "# Create the histogram plot with different colors for each data split\n",
    "plt.figure(figsize=(2.75, 2.5))\n",
    "sns.histplot(\n",
    "    data=data_original,\n",
    "    x=\"log_entropy\",\n",
    "    hue=\"set\",\n",
    "    multiple=\"stack\",\n",
    "    kde=False,\n",
    "    stat=\"density\",\n",
    "    element=\"step\",\n",
    ")\n",
    "\n",
    "plt.title(\"Original Model\", fontsize=14)\n",
    "plt.xlabel(\"Log Entropy\", fontsize=12)\n",
    "plt.xticks(fontsize=10)\n",
    "plt.xticks(fontsize=10)\n",
    "plt.ylabel(\"Density\", fontsize=12) \n",
    "plt.xlim(-5, 2)\n",
    "plt.ylim(0.0, 0.43)\n",
    "\n",
    "plt.savefig(f\"streisand/plots/original.png\", dpi=300, bbox_inches='tight')\n",
    "plt.show()"
   ]
  },
  {
   "cell_type": "code",
   "execution_count": 17,
   "metadata": {},
   "outputs": [
    {
     "data": {
      "image/png": "[encoded data removed]",
      "text/plain": [
       "<Figure size 275x250 with 1 Axes>"
      ]
     },
     "metadata": {},
     "output_type": "display_data"
    }
   ],
   "source": [
    "# Create a DataFrame combining the log entropy values and labels\n",
    "data_gold = pd.DataFrame(\n",
    "    {\n",
    "        \"log_entropy\": np.concatenate(\n",
    "            [gold_retain.to(\"cpu\"), gold_forget.to(\"cpu\"), gold_test.to(\"cpu\")]\n",
    "        ),\n",
    "        \"set\": [\"retain\"] * len(gold_retain)\n",
    "        + [\"forget\"] * len(gold_forget)\n",
    "        + [\"test\"] * len(gold_test),\n",
    "    }\n",
    ")\n",
    "\n",
    "# Normalize each set separately\n",
    "data_gold[\"log_entropy\"] = data_gold.groupby(\"set\")[\"log_entropy\"].transform(\n",
    "    lambda x: (x - x.mean()) / x.std()\n",
    ")\n",
    "\n",
    "# Create the histogram plot with different colors for each data split\n",
    "plt.figure(figsize=(2.75, 2.5))\n",
    "sns.histplot(\n",
    "    data=data_gold,\n",
    "    x=\"log_entropy\",\n",
    "    hue=\"set\",\n",
    "    multiple=\"stack\",\n",
    "    kde=False,\n",
    "    stat=\"density\",\n",
    "    element=\"step\",\n",
    ")\n",
    "plt.title(\"Gold Standard\", fontsize=14)\n",
    "plt.xlabel(\"Log Entropy\", fontsize=12)\n",
    "plt.xticks(fontsize=10)\n",
    "plt.xticks(fontsize=10)\n",
    "plt.ylabel(\"Density\", fontsize=12)\n",
    "plt.xlim(-5, 2)\n",
    "plt.ylim(0.0, 0.43)\n",
    "\n",
    "plt.savefig(f\"streisand/plots/gold.png\", dpi=300, bbox_inches='tight')\n",
    "plt.show()"
   ]
  },
  {
   "cell_type": "code",
   "execution_count": 16,
   "metadata": {},
   "outputs": [
    {
     "data": {
      "image/png": "[encoded data removed]",
      "text/plain": [
       "<Figure size 275x250 with 1 Axes>"
      ]
     },
     "metadata": {},
     "output_type": "display_data"
    }
   ],
   "source": [
    "# Create a DataFrame combining the log entropy values and labels\n",
    "data_relabel = pd.DataFrame(\n",
    "    {\n",
    "        \"log_entropy\": np.concatenate(\n",
    "            [relabel_retain.to(\"cpu\"), relabel_forget.to(\"cpu\"), relabel_test.to(\"cpu\")]\n",
    "        ),\n",
    "        \"set\": [\"retain\"] * len(relabel_retain)\n",
    "        + [\"forget\"] * len(relabel_forget)\n",
    "        + [\"test\"] * len(relabel_test),\n",
    "    }\n",
    ")\n",
    "\n",
    "# Create the histogram plot with different colors for each data split\n",
    "plt.figure(figsize=(2.75, 2.5))\n",
    "sns.histplot(\n",
    "    data=data_relabel,\n",
    "    x=\"log_entropy\",\n",
    "    hue=\"set\",\n",
    "    multiple=\"stack\",\n",
    "    kde=False,\n",
    "    stat=\"density\",\n",
    "    element=\"step\",\n",
    ")\n",
    "plt.title(\"Random Labeling\", fontsize=14)\n",
    "plt.xlabel(\"Log Entropy\", fontsize=12)\n",
    "plt.xticks(fontsize=10)\n",
    "plt.xticks(fontsize=10)\n",
    "plt.ylabel(\"Density\", fontsize=12)\n",
    "plt.xlim(-5, 2)\n",
    "plt.ylim(0.0, 0.31)\n",
    "\n",
    "plt.savefig(f\"streisand/plots/random_labeling.png\", dpi=300, bbox_inches='tight')\n",
    "plt.show()"
   ]
  },
  {
   "cell_type": "code",
   "execution_count": 15,
   "metadata": {},
   "outputs": [
    {
     "data": {
      "image/png": "[encoded data removed]",
      "text/plain": [
       "<Figure size 275x250 with 1 Axes>"
      ]
     },
     "metadata": {},
     "output_type": "display_data"
    }
   ],
   "source": [
    "# Create a DataFrame combining the log entropy values and labels\n",
    "data_our = pd.DataFrame(\n",
    "    {\n",
    "        \"log_entropy\": np.concatenate(\n",
    "            [our_retain.to(\"cpu\"), our_forget.to(\"cpu\"), our_test.to(\"cpu\")]\n",
    "        ),\n",
    "        \"set\": [\"retain\"] * len(our_retain)\n",
    "        + [\"forget\"] * len(our_forget)\n",
    "        + [\"test\"] * len(our_test),\n",
    "    }\n",
    ")\n",
    "\n",
    "# Create the histogram plot with different colors for each data split\n",
    "plt.figure(figsize=(2.75, 2.5))\n",
    "sns.histplot(\n",
    "    data=data_our,\n",
    "    x=\"log_entropy\",\n",
    "    hue=\"set\",\n",
    "    multiple=\"stack\",\n",
    "    kde=False,\n",
    "    stat=\"density\",\n",
    "    element=\"step\",\n",
    ")\n",
    "plt.title(\"LoTUS\", fontsize=14)\n",
    "plt.xlabel(\"Log Entropy\", fontsize=12)\n",
    "plt.xticks(fontsize=10)\n",
    "plt.xticks(fontsize=10)\n",
    "plt.ylabel(\"Density\", fontsize=12)\n",
    "plt.xlim(-5, 2)\n",
    "plt.ylim(0.0, 0.31)\n",
    "\n",
    "plt.savefig(f\"streisand/plots/ours.png\", dpi=300, bbox_inches='tight')\n",
    "plt.show()"
   ]
  }
 ],
 "metadata": {
  "kernelspec": {
   "display_name": "MaUn",
   "language": "python",
   "name": "python3"
  },
  "language_info": {
   "codemirror_mode": {
    "name": "ipython",
    "version": 3
   },
   "file_extension": ".py",
   "mimetype": "text/x-python",
   "name": "python",
   "nbconvert_exporter": "python",
   "pygments_lexer": "ipython3",
   "version": "3.11.5"
  }
 },
 "nbformat": 4,
 "nbformat_minor": 2
}
