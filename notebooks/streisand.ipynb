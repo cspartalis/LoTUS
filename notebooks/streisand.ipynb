{
 "cells": [
  {
   "cell_type": "markdown",
   "metadata": {},
   "source": [
    "# Ablation for Streisand Effect\n",
    "Like in Golatkar's paper: Eternal sunshine of the spotless net"
   ]
  },
  {
   "cell_type": "code",
   "execution_count": 42,
   "metadata": {},
   "outputs": [],
   "source": [
    "import sys\n",
    "\n",
    "sys.path.append(\"../src/\")\n",
    "import numpy as np\n",
    "import pandas as pd\n",
    "import seaborn as sns\n",
    "import torch\n",
    "import torch.nn.functional as F\n",
    "from matplotlib import pyplot as plt\n",
    "from tqdm.notebook import tqdm\n",
    "\n",
    "from helpers.data_utils import UnlearningDataLoader\n",
    "\n",
    "device = torch.device(\"cuda\" if torch.cuda.is_available() else \"cpu\")\n",
    "\n",
    "\n",
    "\n",
    "def entropy(p, dim=-1, keepdim=False):\n",
    "    entropy = -torch.where(p > 0, p * p.log(), p.new([0.0])).sum(\n",
    "        dim=dim, keepdim=keepdim\n",
    "    )\n",
    "    return entropy\n",
    "\n",
    "\n",
    "def collect_prob(data_loader, model):\n",
    "    all_probs = []\n",
    "    model.eval()\n",
    "    model.to(device)\n",
    "    with torch.no_grad():\n",
    "        for data, _ in tqdm(data_loader):\n",
    "            data = data.to(device)\n",
    "            output = model(data)\n",
    "            probs = F.softmax(output, dim=-1)\n",
    "            all_probs.append(probs) \n",
    "    return torch.cat(all_probs)\n",
    "\n",
    "\n",
    "UDL = UnlearningDataLoader(\n",
    "    dataset=\"cifar-100\",\n",
    "    batch_size=1,\n",
    "    image_size=32,\n",
    "    seed=13,\n",
    "    is_vit=False,\n",
    "    is_class_unlearning=False,\n",
    "    class_to_forget=None,\n",
    ")\n",
    "dl, _ = UDL.load_data()\n",
    "num_classes = len(UDL.classes)\n",
    "input_channels = UDL.input_channels"
   ]
  },
  {
   "cell_type": "code",
   "execution_count": 43,
   "metadata": {},
   "outputs": [
    {
     "data": {
      "application/vnd.jupyter.widget-view+json": {
       "model_id": "64d9a06107774881ad9ac7f8929b9cb9",
       "version_major": 2,
       "version_minor": 0
      },
      "text/plain": [
       "  0%|          | 0/45000 [00:00<?, ?it/s]"
      ]
     },
     "metadata": {},
     "output_type": "display_data"
    },
    {
     "data": {
      "application/vnd.jupyter.widget-view+json": {
       "model_id": "e9fb64fbebe0412b8003c9c33b69b0f8",
       "version_major": 2,
       "version_minor": 0
      },
      "text/plain": [
       "  0%|          | 0/5000 [00:00<?, ?it/s]"
      ]
     },
     "metadata": {},
     "output_type": "display_data"
    },
    {
     "data": {
      "application/vnd.jupyter.widget-view+json": {
       "model_id": "a35df51469e74059baf8240082f2ca02",
       "version_major": 2,
       "version_minor": 0
      },
      "text/plain": [
       "  0%|          | 0/5000 [00:00<?, ?it/s]"
      ]
     },
     "metadata": {},
     "output_type": "display_data"
    },
    {
     "data": {
      "application/vnd.jupyter.widget-view+json": {
       "model_id": "54b4b9c873a0465e90c039f9626be115",
       "version_major": 2,
       "version_minor": 0
      },
      "text/plain": [
       "  0%|          | 0/45000 [00:00<?, ?it/s]"
      ]
     },
     "metadata": {},
     "output_type": "display_data"
    },
    {
     "data": {
      "application/vnd.jupyter.widget-view+json": {
       "model_id": "f534fdc7aa6649eab93e70dc274081e2",
       "version_major": 2,
       "version_minor": 0
      },
      "text/plain": [
       "  0%|          | 0/5000 [00:00<?, ?it/s]"
      ]
     },
     "metadata": {},
     "output_type": "display_data"
    },
    {
     "data": {
      "application/vnd.jupyter.widget-view+json": {
       "model_id": "2d90bc5d0d26483aa0557d6cf1b52db4",
       "version_major": 2,
       "version_minor": 0
      },
      "text/plain": [
       "  0%|          | 0/5000 [00:00<?, ?it/s]"
      ]
     },
     "metadata": {},
     "output_type": "display_data"
    },
    {
     "data": {
      "application/vnd.jupyter.widget-view+json": {
       "model_id": "afe69e81a7894e78aa344d1dfc119d3d",
       "version_major": 2,
       "version_minor": 0
      },
      "text/plain": [
       "  0%|          | 0/45000 [00:00<?, ?it/s]"
      ]
     },
     "metadata": {},
     "output_type": "display_data"
    },
    {
     "data": {
      "application/vnd.jupyter.widget-view+json": {
       "model_id": "ad44e1c450d647638f38b6e520385080",
       "version_major": 2,
       "version_minor": 0
      },
      "text/plain": [
       "  0%|          | 0/5000 [00:00<?, ?it/s]"
      ]
     },
     "metadata": {},
     "output_type": "display_data"
    },
    {
     "data": {
      "application/vnd.jupyter.widget-view+json": {
       "model_id": "f1503aa71e0b4682b80bee8c488a19eb",
       "version_major": 2,
       "version_minor": 0
      },
      "text/plain": [
       "  0%|          | 0/5000 [00:00<?, ?it/s]"
      ]
     },
     "metadata": {},
     "output_type": "display_data"
    },
    {
     "data": {
      "application/vnd.jupyter.widget-view+json": {
       "model_id": "1f4e5ad17ae247e68decd3c7949c6e2e",
       "version_major": 2,
       "version_minor": 0
      },
      "text/plain": [
       "  0%|          | 0/45000 [00:00<?, ?it/s]"
      ]
     },
     "metadata": {},
     "output_type": "display_data"
    },
    {
     "data": {
      "application/vnd.jupyter.widget-view+json": {
       "model_id": "5ced07deb0e94e1fbdd1a10343d3665b",
       "version_major": 2,
       "version_minor": 0
      },
      "text/plain": [
       "  0%|          | 0/5000 [00:00<?, ?it/s]"
      ]
     },
     "metadata": {},
     "output_type": "display_data"
    },
    {
     "data": {
      "application/vnd.jupyter.widget-view+json": {
       "model_id": "098d761f21394f199fb0336951a9bef4",
       "version_major": 2,
       "version_minor": 0
      },
      "text/plain": [
       "  0%|          | 0/5000 [00:00<?, ?it/s]"
      ]
     },
     "metadata": {},
     "output_type": "display_data"
    }
   ],
   "source": [
    "original = torch.load('streisand/models/original.pth')\n",
    "original_retain = collect_prob(dl[\"retain\"], original)\n",
    "original_forget = collect_prob(dl[\"forget\"], original)\n",
    "original_test = collect_prob(dl[\"test\"], original)\n",
    "\n",
    "gold = torch.load('streisand/models/gold.pth')\n",
    "gold_retain = collect_prob(dl[\"retain\"], gold)\n",
    "gold_forget = collect_prob(dl[\"forget\"], gold)\n",
    "gold_test = collect_prob(dl[\"test\"], gold)\n",
    "\n",
    "relabel = torch.load('streisand/models/relabel.pth')\n",
    "relabel_retain = collect_prob(dl[\"retain\"], relabel)\n",
    "relabel_forget = collect_prob(dl[\"forget\"], relabel)\n",
    "relabel_test = collect_prob(dl[\"test\"], relabel)\n",
    "\n",
    "our = torch.load('streisand/models/our.pth')\n",
    "our_retain = collect_prob(dl[\"retain\"], our)\n",
    "our_forget = collect_prob(dl[\"forget\"], our)\n",
    "our_test = collect_prob(dl[\"test\"], our)"
   ]
  },
  {
   "cell_type": "code",
   "execution_count": 44,
   "metadata": {},
   "outputs": [],
   "source": [
    "original_retain = entropy(original_retain)\n",
    "original_forget = entropy(original_forget)\n",
    "original_test = entropy(original_test)\n",
    "# apply log\n",
    "original_retain = torch.log(original_retain).to('cpu')\n",
    "original_forget = torch.log(original_forget).to('cpu')\n",
    "original_test = torch.log(original_test).to('cpu')\n",
    "gold_retain = entropy(gold_retain)\n",
    "\n",
    "gold_forget = entropy(gold_forget)\n",
    "gold_test = entropy(gold_test)\n",
    "# apply log\n",
    "gold_retain = torch.log(gold_retain).to('cpu')\n",
    "gold_forget = torch.log(gold_forget).to('cpu')\n",
    "gold_test = torch.log(gold_test).to('cpu')\n",
    "\n",
    "relabel_retain = entropy(relabel_retain)\n",
    "relabel_forget = entropy(relabel_forget)\n",
    "relabel_test = entropy(relabel_test)\n",
    "# apply log\n",
    "relabel_retain = torch.log(relabel_retain).to(\"cpu\")\n",
    "relabel_forget = torch.log(relabel_forget).to(\"cpu\")\n",
    "relabel_test = torch.log(relabel_test).to(\"cpu\")\n",
    "\n",
    "our_retain = entropy(our_retain)\n",
    "our_forget = entropy(our_forget)\n",
    "our_test = entropy(our_test)\n",
    "# apply log\n",
    "our_retain = torch.log(our_retain).to('cpu')\n",
    "our_forget = torch.log(our_forget).to('cpu')\n",
    "our_test = torch.log(our_test).to('cpu')"
   ]
  },
  {
   "cell_type": "code",
   "execution_count": 89,
   "metadata": {},
   "outputs": [
    {
     "data": {
      "image/png": "[encoded data removed]",
      "text/plain": [
       "<Figure size 300x250 with 1 Axes>"
      ]
     },
     "metadata": {},
     "output_type": "display_data"
    }
   ],
   "source": [
    "plt.rcParams[\"font.family\"] = \"Times New Roman\" \n",
    "\n",
    "# Create a DataFrame combining the log entropy values and labels\n",
    "data_original = pd.DataFrame(\n",
    "    {\n",
    "        \"log_entropy\": np.concatenate(\n",
    "            [original_retain.to(\"cpu\"), original_forget.to(\"cpu\"), original_test.to(\"cpu\")]\n",
    "        ),\n",
    "        \"set\": [\"retain\"] * len(original_retain)\n",
    "        + [\"forget\"] * len(original_forget)\n",
    "        + [\"test\"] * len(original_test),\n",
    "    }\n",
    ")\n",
    "\n",
    "# Normalize each set separately\n",
    "data_original[\"log_entropy\"] = data_original.groupby(\"set\")[\"log_entropy\"].transform(\n",
    "    lambda x: (x - x.mean()) / x.std()\n",
    ")\n",
    "\n",
    "# Create the histogram plot with different colors for each data split\n",
    "plt.figure(figsize=(3, 2.5))\n",
    "sns.histplot(\n",
    "    data=data_original,\n",
    "    x=\"log_entropy\",\n",
    "    hue=\"set\",\n",
    "    multiple=\"stack\",\n",
    "    kde=False,\n",
    "    stat=\"density\",\n",
    "    element=\"step\",\n",
    ")\n",
    "\n",
    "plt.title(\"Original Model\", fontsize=14)\n",
    "plt.xlabel(\"Log of Entropy\", fontsize=12)\n",
    "plt.xticks(fontsize=10)\n",
    "plt.xticks(fontsize=10)\n",
    "plt.ylabel(None)\n",
    "plt.xlim(-5, 2)\n",
    "plt.ylim(0.0, 0.43)\n",
    "\n",
    "plt.savefig(f\"streisand/plots/original.png\", dpi=300, bbox_inches='tight')\n",
    "plt.show()"
   ]
  },
  {
   "cell_type": "code",
   "execution_count": 88,
   "metadata": {},
   "outputs": [
    {
     "data": {
      "image/png": "[encoded data removed]",
      "text/plain": [
       "<Figure size 300x250 with 1 Axes>"
      ]
     },
     "metadata": {},
     "output_type": "display_data"
    }
   ],
   "source": [
    "# Create a DataFrame combining the log entropy values and labels\n",
    "data_gold = pd.DataFrame(\n",
    "    {\n",
    "        \"log_entropy\": np.concatenate(\n",
    "            [gold_retain.to(\"cpu\"), gold_forget.to(\"cpu\"), gold_test.to(\"cpu\")]\n",
    "        ),\n",
    "        \"set\": [\"retain\"] * len(gold_retain)\n",
    "        + [\"forget\"] * len(gold_forget)\n",
    "        + [\"test\"] * len(gold_test),\n",
    "    }\n",
    ")\n",
    "\n",
    "# Normalize each set separately\n",
    "data_gold[\"log_entropy\"] = data_gold.groupby(\"set\")[\"log_entropy\"].transform(\n",
    "    lambda x: (x - x.mean()) / x.std()\n",
    ")\n",
    "\n",
    "# Create the histogram plot with different colors for each data split\n",
    "plt.figure(figsize=(3, 2.5))\n",
    "sns.histplot(\n",
    "    data=data_gold,\n",
    "    x=\"log_entropy\",\n",
    "    hue=\"set\",\n",
    "    multiple=\"stack\",\n",
    "    kde=False,\n",
    "    stat=\"density\",\n",
    "    element=\"step\",\n",
    ")\n",
    "plt.title(\"Gold Standard\", fontsize=14)\n",
    "plt.xlabel(\"Log of Entropy\", fontsize=12)\n",
    "plt.xticks(fontsize=10)\n",
    "plt.xticks(fontsize=10)\n",
    "plt.ylabel(None)\n",
    "plt.xlim(-5, 2)\n",
    "plt.ylim(0.0, 0.43)\n",
    "\n",
    "plt.savefig(f\"streisand/plots/gold.png\", dpi=300, bbox_inches='tight')\n",
    "plt.show()"
   ]
  },
  {
   "cell_type": "code",
   "execution_count": 87,
   "metadata": {},
   "outputs": [
    {
     "data": {
      "image/png": "[encoded data removed]",
      "text/plain": [
       "<Figure size 300x250 with 1 Axes>"
      ]
     },
     "metadata": {},
     "output_type": "display_data"
    }
   ],
   "source": [
    "# Create a DataFrame combining the log entropy values and labels\n",
    "data_relabel = pd.DataFrame(\n",
    "    {\n",
    "        \"log_entropy\": np.concatenate(\n",
    "            [relabel_retain.to(\"cpu\"), relabel_forget.to(\"cpu\"), relabel_test.to(\"cpu\")]\n",
    "        ),\n",
    "        \"set\": [\"retain\"] * len(relabel_retain)\n",
    "        + [\"forget\"] * len(relabel_forget)\n",
    "        + [\"test\"] * len(relabel_test),\n",
    "    }\n",
    ")\n",
    "\n",
    "# Create the histogram plot with different colors for each data split\n",
    "plt.figure(figsize=(3, 2.5))\n",
    "sns.histplot(\n",
    "    data=data_relabel,\n",
    "    x=\"log_entropy\",\n",
    "    hue=\"set\",\n",
    "    multiple=\"stack\",\n",
    "    kde=False,\n",
    "    stat=\"density\",\n",
    "    element=\"step\",\n",
    ")\n",
    "plt.title(\"Random Labeling\", fontsize=14)\n",
    "plt.xlabel(\"Log of Entropy\", fontsize=12)\n",
    "plt.xticks(fontsize=10)\n",
    "plt.xticks(fontsize=10)\n",
    "plt.ylabel(None)\n",
    "plt.xlim(-5, 2)\n",
    "plt.ylim(0.0, 0.31)\n",
    "\n",
    "plt.savefig(f\"streisand/plots/random_labeling.png\", dpi=300, bbox_inches='tight')\n",
    "plt.show()"
   ]
  },
  {
   "cell_type": "code",
   "execution_count": 86,
   "metadata": {},
   "outputs": [
    {
     "data": {
      "image/png": "[encoded data removed]",
      "text/plain": [
       "<Figure size 300x250 with 1 Axes>"
      ]
     },
     "metadata": {},
     "output_type": "display_data"
    }
   ],
   "source": [
    "# Create a DataFrame combining the log entropy values and labels\n",
    "data_our = pd.DataFrame(\n",
    "    {\n",
    "        \"log_entropy\": np.concatenate(\n",
    "            [our_retain.to(\"cpu\"), our_forget.to(\"cpu\"), our_test.to(\"cpu\")]\n",
    "        ),\n",
    "        \"set\": [\"retain\"] * len(our_retain)\n",
    "        + [\"forget\"] * len(our_forget)\n",
    "        + [\"test\"] * len(our_test),\n",
    "    }\n",
    ")\n",
    "\n",
    "# Create the histogram plot with different colors for each data split\n",
    "plt.figure(figsize=(3, 2.5))\n",
    "sns.histplot(\n",
    "    data=data_our,\n",
    "    x=\"log_entropy\",\n",
    "    hue=\"set\",\n",
    "    multiple=\"stack\",\n",
    "    kde=False,\n",
    "    stat=\"density\",\n",
    "    element=\"step\",\n",
    ")\n",
    "plt.title(\"Ours\", fontsize=14)\n",
    "plt.xlabel(\"Log of Entropy\", fontsize=12)\n",
    "plt.xticks(fontsize=10)\n",
    "plt.xticks(fontsize=10)\n",
    "plt.ylabel(None)\n",
    "plt.xlim(-5, 2)\n",
    "plt.ylim(0.0, 0.31)\n",
    "\n",
    "plt.savefig(f\"streisand/plots/ours.png\", dpi=300, bbox_inches='tight')\n",
    "plt.show()"
   ]
  }
 ],
 "metadata": {
  "kernelspec": {
   "display_name": "MaUn",
   "language": "python",
   "name": "python3"
  },
  "language_info": {
   "codemirror_mode": {
    "name": "ipython",
    "version": 3
   },
   "file_extension": ".py",
   "mimetype": "text/x-python",
   "name": "python",
   "nbconvert_exporter": "python",
   "pygments_lexer": "ipython3",
   "version": "3.11.5"
  }
 },
 "nbformat": 4,
 "nbformat_minor": 2
}
