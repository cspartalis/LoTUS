{
 "cells": [
  {
   "cell_type": "code",
   "execution_count": 48,
   "metadata": {},
   "outputs": [],
   "source": [
    "import sys\n",
    "sys.path.append('../src/')\n",
    "import torch\n",
    "import torch.nn.functional as F\n",
    "from tqdm.notebook import tqdm\n",
    "from data_utils import UnlearningDataLoader\n",
    "\n",
    "def entropy(p, dim=-1, keepdim=False):\n",
    "    return -torch.where(p > 0, p * p.log(), p.new([0.0])).sum(dim=dim, keepdim=keepdim)\n",
    "\n",
    "\n",
    "def collect_prob(data_loader, model):\n",
    "    data_loader = torch.utils.data.DataLoader(\n",
    "        data_loader.dataset,\n",
    "        batch_size=1,\n",
    "        shuffle=False,\n",
    "        num_workers=4,\n",
    "        prefetch_factor=10,\n",
    "    )\n",
    "    prob = []\n",
    "    with torch.no_grad():\n",
    "        for batch in tqdm(data_loader):\n",
    "            batch = [tensor.to(next(model.parameters()).device) for tensor in batch]\n",
    "            # data, _, target = batch\n",
    "            data, _ = batch\n",
    "            output = model(data)\n",
    "            prob.append(F.softmax(output, dim=-1).data)\n",
    "    return torch.cat(prob)\n",
    "\n",
    "UDL = UnlearningDataLoader(\n",
    "    \"cifar-10\",128, 32, 3407, is_vit=False, is_class_unlearning=False, class_to_forget=None,\n",
    ")\n",
    "dl, _ = UDL.load_data()\n",
    "num_classes = len(UDL.classes)\n",
    "input_channels = UDL.input_channels"
   ]
  },
  {
   "cell_type": "code",
   "execution_count": 49,
   "metadata": {},
   "outputs": [
    {
     "data": {
      "application/vnd.jupyter.widget-view+json": {
       "model_id": "522ddccd02084a09b15ccb0b5b8f80f6",
       "version_major": 2,
       "version_minor": 0
      },
      "text/plain": [
       "  0%|          | 0/45000 [00:00<?, ?it/s]"
      ]
     },
     "metadata": {},
     "output_type": "display_data"
    },
    {
     "data": {
      "application/vnd.jupyter.widget-view+json": {
       "model_id": "66378f791a9e4e7dbb5088e0e750047e",
       "version_major": 2,
       "version_minor": 0
      },
      "text/plain": [
       "  0%|          | 0/5000 [00:00<?, ?it/s]"
      ]
     },
     "metadata": {},
     "output_type": "display_data"
    },
    {
     "data": {
      "application/vnd.jupyter.widget-view+json": {
       "model_id": "c76eb99e23844472968dfdde97d9e4b2",
       "version_major": 2,
       "version_minor": 0
      },
      "text/plain": [
       "  0%|          | 0/5000 [00:00<?, ?it/s]"
      ]
     },
     "metadata": {},
     "output_type": "display_data"
    }
   ],
   "source": [
    "original = torch.load('streisand_models/original.pth')\n",
    "original\n",
    "original_retain = collect_prob(dl[\"retain\"], original)\n",
    "original_forget = collect_prob(dl[\"forget\"], original)\n",
    "original_test = collect_prob(dl[\"test\"], original)"
   ]
  },
  {
   "cell_type": "code",
   "execution_count": 50,
   "metadata": {},
   "outputs": [
    {
     "name": "stdout",
     "output_type": "stream",
     "text": [
      "tensor(0.0119, device='cuda:0')\n",
      "tensor(-4.4341)\n"
     ]
    }
   ],
   "source": [
    "original_retain = entropy(original_retain)\n",
    "original_forget = entropy(original_forget)\n",
    "original_test = entropy(original_test)\n",
    "\n",
    "print(original_retain[1])\n",
    "\n",
    "original_retain = torch.log(original_retain).to('cpu')\n",
    "original_forget = torch.log(original_forget).to('cpu')\n",
    "original_test = torch.log(original_test).to('cpu')\n",
    "\n",
    "print(original_retain[1])"
   ]
  },
  {
   "cell_type": "code",
   "execution_count": 51,
   "metadata": {},
   "outputs": [
    {
     "data": {
      "text/html": [
       "<div>\n",
       "<style scoped>\n",
       "    .dataframe tbody tr th:only-of-type {\n",
       "        vertical-align: middle;\n",
       "    }\n",
       "\n",
       "    .dataframe tbody tr th {\n",
       "        vertical-align: top;\n",
       "    }\n",
       "\n",
       "    .dataframe thead th {\n",
       "        text-align: right;\n",
       "    }\n",
       "</style>\n",
       "<table border=\"1\" class=\"dataframe\">\n",
       "  <thead>\n",
       "    <tr style=\"text-align: right;\">\n",
       "      <th></th>\n",
       "      <th>log_entropy</th>\n",
       "      <th>set</th>\n",
       "    </tr>\n",
       "  </thead>\n",
       "  <tbody>\n",
       "    <tr>\n",
       "      <th>0</th>\n",
       "      <td>-5.470867</td>\n",
       "      <td>retain</td>\n",
       "    </tr>\n",
       "    <tr>\n",
       "      <th>1</th>\n",
       "      <td>-4.434108</td>\n",
       "      <td>retain</td>\n",
       "    </tr>\n",
       "    <tr>\n",
       "      <th>2</th>\n",
       "      <td>-5.140790</td>\n",
       "      <td>retain</td>\n",
       "    </tr>\n",
       "    <tr>\n",
       "      <th>3</th>\n",
       "      <td>-6.009385</td>\n",
       "      <td>retain</td>\n",
       "    </tr>\n",
       "    <tr>\n",
       "      <th>4</th>\n",
       "      <td>-4.460606</td>\n",
       "      <td>retain</td>\n",
       "    </tr>\n",
       "    <tr>\n",
       "      <th>...</th>\n",
       "      <td>...</td>\n",
       "      <td>...</td>\n",
       "    </tr>\n",
       "    <tr>\n",
       "      <th>54995</th>\n",
       "      <td>-0.740769</td>\n",
       "      <td>test</td>\n",
       "    </tr>\n",
       "    <tr>\n",
       "      <th>54996</th>\n",
       "      <td>-1.099734</td>\n",
       "      <td>test</td>\n",
       "    </tr>\n",
       "    <tr>\n",
       "      <th>54997</th>\n",
       "      <td>-5.608759</td>\n",
       "      <td>test</td>\n",
       "    </tr>\n",
       "    <tr>\n",
       "      <th>54998</th>\n",
       "      <td>0.045751</td>\n",
       "      <td>test</td>\n",
       "    </tr>\n",
       "    <tr>\n",
       "      <th>54999</th>\n",
       "      <td>0.123107</td>\n",
       "      <td>test</td>\n",
       "    </tr>\n",
       "  </tbody>\n",
       "</table>\n",
       "<p>55000 rows × 2 columns</p>\n",
       "</div>"
      ],
      "text/plain": [
       "       log_entropy     set\n",
       "0        -5.470867  retain\n",
       "1        -4.434108  retain\n",
       "2        -5.140790  retain\n",
       "3        -6.009385  retain\n",
       "4        -4.460606  retain\n",
       "...            ...     ...\n",
       "54995    -0.740769    test\n",
       "54996    -1.099734    test\n",
       "54997    -5.608759    test\n",
       "54998     0.045751    test\n",
       "54999     0.123107    test\n",
       "\n",
       "[55000 rows x 2 columns]"
      ]
     },
     "execution_count": 51,
     "metadata": {},
     "output_type": "execute_result"
    }
   ],
   "source": [
    "import pandas as pd \n",
    "import numpy as np\n",
    "from matplotlib import pyplot as plt\n",
    "import seaborn as sns\n",
    "\n",
    "# Create a DataFrame combining the log entropy values and labels\n",
    "data_original = pd.DataFrame({\n",
    "    'log_entropy': np.concatenate([original_retain.to('cpu'), original_forget.to('cpu'), original_test.to('cpu')]),\n",
    "    'set': ['retain'] * len(original_retain) + ['forget'] * len(original_forget) + ['test'] * len(original_test),\n",
    "})\n",
    "\n",
    "data_original"
   ]
  },
  {
   "cell_type": "code",
   "execution_count": 53,
   "metadata": {},
   "outputs": [
    {
     "data": {
      "image/png": "[encoded data removed]",
      "text/plain": [
       "<Figure size 1000x600 with 1 Axes>"
      ]
     },
     "metadata": {},
     "output_type": "display_data"
    }
   ],
   "source": [
    "# Create the histogram plot with different colors for each data split\n",
    "plt.figure(figsize=(10, 6))\n",
    "sns.histplot(data=data_original, x='log_entropy', hue='set', multiple='stack', kde=False, bins=30)\n",
    "plt.title('Log Entropy Distribution for Different Data Splits')\n",
    "plt.xlabel('Log of Entropy')\n",
    "plt.ylabel('Density')\n",
    "\n",
    "plt.show()"
   ]
  }
 ],
 "metadata": {
  "kernelspec": {
   "display_name": "MaUn",
   "language": "python",
   "name": "python3"
  },
  "language_info": {
   "codemirror_mode": {
    "name": "ipython",
    "version": 3
   },
   "file_extension": ".py",
   "mimetype": "text/x-python",
   "name": "python",
   "nbconvert_exporter": "python",
   "pygments_lexer": "ipython3",
   "version": "3.11.5"
  }
 },
 "nbformat": 4,
 "nbformat_minor": 2
}
